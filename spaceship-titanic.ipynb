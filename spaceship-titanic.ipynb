{
 "cells": [
  {
   "cell_type": "code",
   "execution_count": 1,
   "id": "5f4727c6",
   "metadata": {
    "_cell_guid": "b1076dfc-b9ad-4769-8c92-a6c4dae69d19",
    "_uuid": "8f2839f25d086af736a60e9eeb907d3b93b6e0e5",
    "execution": {
     "iopub.execute_input": "2023-03-18T07:41:22.649059Z",
     "iopub.status.busy": "2023-03-18T07:41:22.648460Z",
     "iopub.status.idle": "2023-03-18T07:41:22.666602Z",
     "shell.execute_reply": "2023-03-18T07:41:22.665540Z"
    },
    "papermill": {
     "duration": 0.035921,
     "end_time": "2023-03-18T07:41:22.669678",
     "exception": false,
     "start_time": "2023-03-18T07:41:22.633757",
     "status": "completed"
    },
    "tags": []
   },
   "outputs": [
    {
     "name": "stdout",
     "output_type": "stream",
     "text": [
      "/kaggle/input/spaceship-titanic/sample_submission.csv\n",
      "/kaggle/input/spaceship-titanic/train.csv\n",
      "/kaggle/input/spaceship-titanic/test.csv\n"
     ]
    }
   ],
   "source": [
    "# This Python 3 environment comes with many helpful analytics libraries installed\n",
    "# It is defined by the kaggle/python Docker image: https://github.com/kaggle/docker-python\n",
    "# For example, here's several helpful packages to load\n",
    "\n",
    "import numpy as np # linear algebra\n",
    "import pandas as pd # data processing, CSV file I/O (e.g. pd.read_csv)\n",
    "\n",
    "# Input data files are available in the read-only \"../input/\" directory\n",
    "# For example, running this (by clicking run or pressing Shift+Enter) will list all files under the input directory\n",
    "\n",
    "import os\n",
    "for dirname, _, filenames in os.walk('/kaggle/input'):\n",
    "    for filename in filenames:\n",
    "        print(os.path.join(dirname, filename))\n",
    "\n",
    "# You can write up to 20GB to the current directory (/kaggle/working/) that gets preserved as output when you create a version using \"Save & Run All\" \n",
    "# You can also write temporary files to /kaggle/temp/, but they won't be saved outside of the current session"
   ]
  },
  {
   "cell_type": "code",
   "execution_count": 2,
   "id": "0588fa6a",
   "metadata": {
    "execution": {
     "iopub.execute_input": "2023-03-18T07:41:22.695432Z",
     "iopub.status.busy": "2023-03-18T07:41:22.694289Z",
     "iopub.status.idle": "2023-03-18T07:41:24.162234Z",
     "shell.execute_reply": "2023-03-18T07:41:24.160871Z"
    },
    "papermill": {
     "duration": 1.484218,
     "end_time": "2023-03-18T07:41:24.165692",
     "exception": false,
     "start_time": "2023-03-18T07:41:22.681474",
     "status": "completed"
    },
    "tags": []
   },
   "outputs": [],
   "source": [
    "# visualization\n",
    "import seaborn as sns\n",
    "import matplotlib.pyplot as plt\n",
    "%matplotlib inline"
   ]
  },
  {
   "cell_type": "code",
   "execution_count": 3,
   "id": "b3dbfc02",
   "metadata": {
    "execution": {
     "iopub.execute_input": "2023-03-18T07:41:24.190330Z",
     "iopub.status.busy": "2023-03-18T07:41:24.189028Z",
     "iopub.status.idle": "2023-03-18T07:41:24.328005Z",
     "shell.execute_reply": "2023-03-18T07:41:24.326621Z"
    },
    "papermill": {
     "duration": 0.154572,
     "end_time": "2023-03-18T07:41:24.331339",
     "exception": false,
     "start_time": "2023-03-18T07:41:24.176767",
     "status": "completed"
    },
    "tags": []
   },
   "outputs": [
    {
     "name": "stdout",
     "output_type": "stream",
     "text": [
      "<class 'pandas.core.frame.DataFrame'>\n",
      "RangeIndex: 8693 entries, 0 to 8692\n",
      "Data columns (total 14 columns):\n",
      " #   Column        Non-Null Count  Dtype  \n",
      "---  ------        --------------  -----  \n",
      " 0   PassengerId   8693 non-null   object \n",
      " 1   HomePlanet    8492 non-null   object \n",
      " 2   CryoSleep     8476 non-null   object \n",
      " 3   Cabin         8494 non-null   object \n",
      " 4   Destination   8511 non-null   object \n",
      " 5   Age           8514 non-null   float64\n",
      " 6   VIP           8490 non-null   object \n",
      " 7   RoomService   8512 non-null   float64\n",
      " 8   FoodCourt     8510 non-null   float64\n",
      " 9   ShoppingMall  8485 non-null   float64\n",
      " 10  Spa           8510 non-null   float64\n",
      " 11  VRDeck        8505 non-null   float64\n",
      " 12  Name          8493 non-null   object \n",
      " 13  Transported   8693 non-null   bool   \n",
      "dtypes: bool(1), float64(6), object(7)\n",
      "memory usage: 891.5+ KB\n",
      "------------------------------------------\n",
      "<class 'pandas.core.frame.DataFrame'>\n",
      "RangeIndex: 4277 entries, 0 to 4276\n",
      "Data columns (total 13 columns):\n",
      " #   Column        Non-Null Count  Dtype  \n",
      "---  ------        --------------  -----  \n",
      " 0   PassengerId   4277 non-null   object \n",
      " 1   HomePlanet    4190 non-null   object \n",
      " 2   CryoSleep     4184 non-null   object \n",
      " 3   Cabin         4177 non-null   object \n",
      " 4   Destination   4185 non-null   object \n",
      " 5   Age           4186 non-null   float64\n",
      " 6   VIP           4184 non-null   object \n",
      " 7   RoomService   4195 non-null   float64\n",
      " 8   FoodCourt     4171 non-null   float64\n",
      " 9   ShoppingMall  4179 non-null   float64\n",
      " 10  Spa           4176 non-null   float64\n",
      " 11  VRDeck        4197 non-null   float64\n",
      " 12  Name          4183 non-null   object \n",
      "dtypes: float64(6), object(7)\n",
      "memory usage: 434.5+ KB\n"
     ]
    }
   ],
   "source": [
    "train_df = pd.read_csv('/kaggle/input/spaceship-titanic/train.csv')\n",
    "test_df = pd.read_csv('/kaggle/input/spaceship-titanic/test.csv')\n",
    "train_df.info()\n",
    "print('------------------------------------------')\n",
    "test_df.info()"
   ]
  },
  {
   "cell_type": "markdown",
   "id": "ad2965ab",
   "metadata": {
    "papermill": {
     "duration": 0.011802,
     "end_time": "2023-03-18T07:41:24.353997",
     "exception": false,
     "start_time": "2023-03-18T07:41:24.342195",
     "status": "completed"
    },
    "tags": []
   },
   "source": [
    "### 1. Transported 값 0,1로 변경"
   ]
  },
  {
   "cell_type": "code",
   "execution_count": 4,
   "id": "1d79acab",
   "metadata": {
    "execution": {
     "iopub.execute_input": "2023-03-18T07:41:24.378459Z",
     "iopub.status.busy": "2023-03-18T07:41:24.377643Z",
     "iopub.status.idle": "2023-03-18T07:41:24.388964Z",
     "shell.execute_reply": "2023-03-18T07:41:24.387836Z"
    },
    "papermill": {
     "duration": 0.027018,
     "end_time": "2023-03-18T07:41:24.391923",
     "exception": false,
     "start_time": "2023-03-18T07:41:24.364905",
     "status": "completed"
    },
    "tags": []
   },
   "outputs": [],
   "source": [
    "#Transpoted 값을 bool 0,1 인트 값으로 변경\n",
    "train_df['TransNum'] = 0\n",
    "train_df.loc[(train_df['Transported']), 'TransNum'] = 1\n",
    "train_df.drop(['PassengerId','Transported','Name'],axis = 1, inplace=True)\n",
    "test_id = test_df['PassengerId']\n",
    "test_df.drop(['PassengerId','Name'],axis=1, inplace=True)"
   ]
  },
  {
   "cell_type": "markdown",
   "id": "242c75ea",
   "metadata": {
    "papermill": {
     "duration": 0.011083,
     "end_time": "2023-03-18T07:41:24.413910",
     "exception": false,
     "start_time": "2023-03-18T07:41:24.402827",
     "status": "completed"
    },
    "tags": []
   },
   "source": [
    "### 2. Float 결손값 채우기"
   ]
  },
  {
   "cell_type": "code",
   "execution_count": 5,
   "id": "33c130d3",
   "metadata": {
    "execution": {
     "iopub.execute_input": "2023-03-18T07:41:24.437895Z",
     "iopub.status.busy": "2023-03-18T07:41:24.437416Z",
     "iopub.status.idle": "2023-03-18T07:41:24.449897Z",
     "shell.execute_reply": "2023-03-18T07:41:24.448226Z"
    },
    "papermill": {
     "duration": 0.028499,
     "end_time": "2023-03-18T07:41:24.453135",
     "exception": false,
     "start_time": "2023-03-18T07:41:24.424636",
     "status": "completed"
    },
    "tags": []
   },
   "outputs": [],
   "source": [
    "for df in [train_df,test_df]:\n",
    "    df['Age'].fillna(df['Age'].mean(), inplace=True)\n",
    "    for i in ['RoomService', 'FoodCourt', 'ShoppingMall','Spa','VRDeck']:\n",
    "        df[i].fillna(0,inplace = True)"
   ]
  },
  {
   "cell_type": "code",
   "execution_count": 6,
   "id": "112d1bd3",
   "metadata": {
    "execution": {
     "iopub.execute_input": "2023-03-18T07:41:24.476882Z",
     "iopub.status.busy": "2023-03-18T07:41:24.476398Z",
     "iopub.status.idle": "2023-03-18T07:41:24.969254Z",
     "shell.execute_reply": "2023-03-18T07:41:24.967257Z"
    },
    "papermill": {
     "duration": 0.508429,
     "end_time": "2023-03-18T07:41:24.972274",
     "exception": false,
     "start_time": "2023-03-18T07:41:24.463845",
     "status": "completed"
    },
    "tags": []
   },
   "outputs": [
    {
     "data": {
      "text/plain": [
       "<AxesSubplot:>"
      ]
     },
     "execution_count": 6,
     "metadata": {},
     "output_type": "execute_result"
    },
    {
     "data": {
      "image/png": "[encoded data removed]",
      "text/plain": [
       "<Figure size 1400x1200 with 2 Axes>"
      ]
     },
     "metadata": {},
     "output_type": "display_data"
    }
   ],
   "source": [
    "corr_data = train_df[['TransNum','Age', 'RoomService', 'FoodCourt',\n",
    "                     'ShoppingMall','Spa','VRDeck']]\n",
    "colormap = plt.cm.PuBu\n",
    "f, ax = plt.subplots(figsize = (14,12))\n",
    "sns.heatmap(corr_data.corr(),square = True, linewidths = 0.1,\n",
    "           cmap = colormap, linecolor = \"white\", vmax=0.8)"
   ]
  },
  {
   "cell_type": "code",
   "execution_count": 7,
   "id": "e5aaf32e",
   "metadata": {
    "execution": {
     "iopub.execute_input": "2023-03-18T07:41:24.998064Z",
     "iopub.status.busy": "2023-03-18T07:41:24.997522Z",
     "iopub.status.idle": "2023-03-18T07:41:25.009065Z",
     "shell.execute_reply": "2023-03-18T07:41:25.007091Z"
    },
    "papermill": {
     "duration": 0.028499,
     "end_time": "2023-03-18T07:41:25.012608",
     "exception": false,
     "start_time": "2023-03-18T07:41:24.984109",
     "status": "completed"
    },
    "tags": []
   },
   "outputs": [],
   "source": [
    "train_df.drop(['RoomService','Spa','VRDeck'],axis=1,inplace=True)\n",
    "test_df.drop(['RoomService','Spa','VRDeck'],axis=1,inplace=True)"
   ]
  },
  {
   "cell_type": "markdown",
   "id": "2226b802",
   "metadata": {
    "papermill": {
     "duration": 0.011107,
     "end_time": "2023-03-18T07:41:25.035939",
     "exception": false,
     "start_time": "2023-03-18T07:41:25.024832",
     "status": "completed"
    },
    "tags": []
   },
   "source": [
    "### 3. object 결손값 채우기"
   ]
  },
  {
   "cell_type": "markdown",
   "id": "3b08baf6",
   "metadata": {
    "papermill": {
     "duration": 0.011223,
     "end_time": "2023-03-18T07:41:25.059046",
     "exception": false,
     "start_time": "2023-03-18T07:41:25.047823",
     "status": "completed"
    },
    "tags": []
   },
   "source": [
    "#### 3.1 HomePlanet"
   ]
  },
  {
   "cell_type": "code",
   "execution_count": 8,
   "id": "ed97070c",
   "metadata": {
    "execution": {
     "iopub.execute_input": "2023-03-18T07:41:25.084268Z",
     "iopub.status.busy": "2023-03-18T07:41:25.083802Z",
     "iopub.status.idle": "2023-03-18T07:41:25.093761Z",
     "shell.execute_reply": "2023-03-18T07:41:25.092783Z"
    },
    "papermill": {
     "duration": 0.025593,
     "end_time": "2023-03-18T07:41:25.096324",
     "exception": false,
     "start_time": "2023-03-18T07:41:25.070731",
     "status": "completed"
    },
    "tags": []
   },
   "outputs": [
    {
     "data": {
      "text/plain": [
       "Earth     4602\n",
       "Europa    2131\n",
       "Mars      1759\n",
       "Name: HomePlanet, dtype: int64"
      ]
     },
     "execution_count": 8,
     "metadata": {},
     "output_type": "execute_result"
    }
   ],
   "source": [
    "train_df['HomePlanet'].value_counts()"
   ]
  },
  {
   "cell_type": "code",
   "execution_count": 9,
   "id": "8845f54f",
   "metadata": {
    "execution": {
     "iopub.execute_input": "2023-03-18T07:41:25.123306Z",
     "iopub.status.busy": "2023-03-18T07:41:25.122894Z",
     "iopub.status.idle": "2023-03-18T07:41:25.129267Z",
     "shell.execute_reply": "2023-03-18T07:41:25.127877Z"
    },
    "papermill": {
     "duration": 0.023784,
     "end_time": "2023-03-18T07:41:25.131958",
     "exception": false,
     "start_time": "2023-03-18T07:41:25.108174",
     "status": "completed"
    },
    "tags": []
   },
   "outputs": [],
   "source": [
    "# homeplanet은 출발행성으로 결손값 지구로 설정\n",
    "train_df['HomePlanet'].fillna('Earth', inplace = True)"
   ]
  },
  {
   "cell_type": "markdown",
   "id": "842df458",
   "metadata": {
    "papermill": {
     "duration": 0.011216,
     "end_time": "2023-03-18T07:41:25.155084",
     "exception": false,
     "start_time": "2023-03-18T07:41:25.143868",
     "status": "completed"
    },
    "tags": []
   },
   "source": [
    "#### 3.2 CryoSleep"
   ]
  },
  {
   "cell_type": "code",
   "execution_count": 10,
   "id": "a14ced13",
   "metadata": {
    "execution": {
     "iopub.execute_input": "2023-03-18T07:41:25.182651Z",
     "iopub.status.busy": "2023-03-18T07:41:25.181633Z",
     "iopub.status.idle": "2023-03-18T07:41:25.193186Z",
     "shell.execute_reply": "2023-03-18T07:41:25.191577Z"
    },
    "papermill": {
     "duration": 0.029252,
     "end_time": "2023-03-18T07:41:25.196575",
     "exception": false,
     "start_time": "2023-03-18T07:41:25.167323",
     "status": "completed"
    },
    "tags": []
   },
   "outputs": [
    {
     "data": {
      "text/plain": [
       "False    5439\n",
       "True     3037\n",
       "Name: CryoSleep, dtype: int64"
      ]
     },
     "execution_count": 10,
     "metadata": {},
     "output_type": "execute_result"
    }
   ],
   "source": [
    "train_df['CryoSleep'].value_counts()"
   ]
  },
  {
   "cell_type": "code",
   "execution_count": 11,
   "id": "eda3cae6",
   "metadata": {
    "execution": {
     "iopub.execute_input": "2023-03-18T07:41:25.224392Z",
     "iopub.status.busy": "2023-03-18T07:41:25.223968Z",
     "iopub.status.idle": "2023-03-18T07:41:25.232123Z",
     "shell.execute_reply": "2023-03-18T07:41:25.230722Z"
    },
    "papermill": {
     "duration": 0.025952,
     "end_time": "2023-03-18T07:41:25.235026",
     "exception": false,
     "start_time": "2023-03-18T07:41:25.209074",
     "status": "completed"
    },
    "tags": []
   },
   "outputs": [],
   "source": [
    "train_df['CryoSleep'].fillna(False, inplace = True)"
   ]
  },
  {
   "cell_type": "code",
   "execution_count": 12,
   "id": "14a469a1",
   "metadata": {
    "execution": {
     "iopub.execute_input": "2023-03-18T07:41:25.262241Z",
     "iopub.status.busy": "2023-03-18T07:41:25.261772Z",
     "iopub.status.idle": "2023-03-18T07:41:25.480811Z",
     "shell.execute_reply": "2023-03-18T07:41:25.479414Z"
    },
    "papermill": {
     "duration": 0.23662,
     "end_time": "2023-03-18T07:41:25.483858",
     "exception": false,
     "start_time": "2023-03-18T07:41:25.247238",
     "status": "completed"
    },
    "tags": []
   },
   "outputs": [],
   "source": [
    "from sklearn.preprocessing import LabelEncoder\n",
    "for df in [train_df, test_df]:\n",
    "    features = ['HomePlanet', 'CryoSleep']\n",
    "    for feature in features:\n",
    "        le = LabelEncoder()\n",
    "        le = le.fit(df[feature])\n",
    "        df[feature] = le.transform(df[feature])"
   ]
  },
  {
   "cell_type": "markdown",
   "id": "f94967f0",
   "metadata": {
    "papermill": {
     "duration": 0.011555,
     "end_time": "2023-03-18T07:41:25.508778",
     "exception": false,
     "start_time": "2023-03-18T07:41:25.497223",
     "status": "completed"
    },
    "tags": []
   },
   "source": [
    "#### 3.3 Cabin"
   ]
  },
  {
   "cell_type": "code",
   "execution_count": 13,
   "id": "582cfd12",
   "metadata": {
    "execution": {
     "iopub.execute_input": "2023-03-18T07:41:25.536584Z",
     "iopub.status.busy": "2023-03-18T07:41:25.535445Z",
     "iopub.status.idle": "2023-03-18T07:41:25.552104Z",
     "shell.execute_reply": "2023-03-18T07:41:25.550609Z"
    },
    "papermill": {
     "duration": 0.033713,
     "end_time": "2023-03-18T07:41:25.555086",
     "exception": false,
     "start_time": "2023-03-18T07:41:25.521373",
     "status": "completed"
    },
    "tags": []
   },
   "outputs": [
    {
     "data": {
      "text/plain": [
       "G/734/S     8\n",
       "G/109/P     7\n",
       "B/201/P     7\n",
       "G/1368/P    7\n",
       "G/981/S     7\n",
       "           ..\n",
       "G/556/P     1\n",
       "E/231/S     1\n",
       "G/545/S     1\n",
       "G/543/S     1\n",
       "F/947/P     1\n",
       "Name: Cabin, Length: 6560, dtype: int64"
      ]
     },
     "execution_count": 13,
     "metadata": {},
     "output_type": "execute_result"
    }
   ],
   "source": [
    "train_df['Cabin'].value_counts()"
   ]
  },
  {
   "cell_type": "code",
   "execution_count": 14,
   "id": "92ace46b",
   "metadata": {
    "execution": {
     "iopub.execute_input": "2023-03-18T07:41:25.582138Z",
     "iopub.status.busy": "2023-03-18T07:41:25.580952Z",
     "iopub.status.idle": "2023-03-18T07:41:25.593625Z",
     "shell.execute_reply": "2023-03-18T07:41:25.592646Z"
    },
    "papermill": {
     "duration": 0.028614,
     "end_time": "2023-03-18T07:41:25.596333",
     "exception": false,
     "start_time": "2023-03-18T07:41:25.567719",
     "status": "completed"
    },
    "tags": []
   },
   "outputs": [],
   "source": [
    "train_df['deck'] = train_df['Cabin'].str[:1]\n",
    "train_df['side'] = train_df['Cabin'].str[-1:]"
   ]
  },
  {
   "cell_type": "code",
   "execution_count": 15,
   "id": "21e071ad",
   "metadata": {
    "execution": {
     "iopub.execute_input": "2023-03-18T07:41:25.623439Z",
     "iopub.status.busy": "2023-03-18T07:41:25.622624Z",
     "iopub.status.idle": "2023-03-18T07:41:25.633533Z",
     "shell.execute_reply": "2023-03-18T07:41:25.631959Z"
    },
    "papermill": {
     "duration": 0.027091,
     "end_time": "2023-03-18T07:41:25.636213",
     "exception": false,
     "start_time": "2023-03-18T07:41:25.609122",
     "status": "completed"
    },
    "tags": []
   },
   "outputs": [
    {
     "name": "stdout",
     "output_type": "stream",
     "text": [
      "S    4288\n",
      "P    4206\n",
      "Name: side, dtype: int64\n",
      "F    2794\n",
      "G    2559\n",
      "E     876\n",
      "B     779\n",
      "C     747\n",
      "D     478\n",
      "A     256\n",
      "T       5\n",
      "Name: deck, dtype: int64\n"
     ]
    }
   ],
   "source": [
    "print(train_df['side'].value_counts())\n",
    "print(train_df['deck'].value_counts())"
   ]
  },
  {
   "cell_type": "code",
   "execution_count": 16,
   "id": "d4ba8d2e",
   "metadata": {
    "execution": {
     "iopub.execute_input": "2023-03-18T07:41:25.662614Z",
     "iopub.status.busy": "2023-03-18T07:41:25.661706Z",
     "iopub.status.idle": "2023-03-18T07:41:26.001096Z",
     "shell.execute_reply": "2023-03-18T07:41:25.999697Z"
    },
    "papermill": {
     "duration": 0.356318,
     "end_time": "2023-03-18T07:41:26.004529",
     "exception": false,
     "start_time": "2023-03-18T07:41:25.648211",
     "status": "completed"
    },
    "tags": []
   },
   "outputs": [
    {
     "data": {
      "text/plain": [
       "<AxesSubplot:>"
      ]
     },
     "execution_count": 16,
     "metadata": {},
     "output_type": "execute_result"
    },
    {
     "data": {
      "image/png": "[encoded data removed]",
      "text/plain": [
       "<Figure size 1000x500 with 1 Axes>"
      ]
     },
     "metadata": {},
     "output_type": "display_data"
    }
   ],
   "source": [
    "#side는 생존과 상관 없다는 것을 알수 있다.\n",
    "Pclass1 = train_df[train_df['TransNum']==1]['side'].value_counts()\n",
    "Pclass2 = train_df[train_df['TransNum']==0]['side'].value_counts()\n",
    "df = pd.DataFrame([Pclass1,Pclass2])\n",
    "df.index = ['survive','die']\n",
    "df.plot(kind='bar',stacked=True,figsize=(10,5))"
   ]
  },
  {
   "cell_type": "code",
   "execution_count": 17,
   "id": "ce4ac115",
   "metadata": {
    "execution": {
     "iopub.execute_input": "2023-03-18T07:41:26.032373Z",
     "iopub.status.busy": "2023-03-18T07:41:26.031695Z",
     "iopub.status.idle": "2023-03-18T07:41:26.039961Z",
     "shell.execute_reply": "2023-03-18T07:41:26.038563Z"
    },
    "papermill": {
     "duration": 0.025024,
     "end_time": "2023-03-18T07:41:26.042595",
     "exception": false,
     "start_time": "2023-03-18T07:41:26.017571",
     "status": "completed"
    },
    "tags": []
   },
   "outputs": [],
   "source": [
    "train_df.drop(['side'],axis=1,inplace=True)"
   ]
  },
  {
   "cell_type": "code",
   "execution_count": 18,
   "id": "af81d784",
   "metadata": {
    "execution": {
     "iopub.execute_input": "2023-03-18T07:41:26.070680Z",
     "iopub.status.busy": "2023-03-18T07:41:26.069788Z",
     "iopub.status.idle": "2023-03-18T07:41:26.365098Z",
     "shell.execute_reply": "2023-03-18T07:41:26.363869Z"
    },
    "papermill": {
     "duration": 0.312951,
     "end_time": "2023-03-18T07:41:26.367971",
     "exception": false,
     "start_time": "2023-03-18T07:41:26.055020",
     "status": "completed"
    },
    "tags": []
   },
   "outputs": [
    {
     "data": {
      "text/plain": [
       "<AxesSubplot:>"
      ]
     },
     "execution_count": 18,
     "metadata": {},
     "output_type": "execute_result"
    },
    {
     "data": {
      "image/png": "[encoded data removed]",
      "text/plain": [
       "<Figure size 1000x500 with 1 Axes>"
      ]
     },
     "metadata": {},
     "output_type": "display_data"
    }
   ],
   "source": [
    "#side도 영향을 주지 않는 것을 볼수있다\n",
    "Pclass1 = train_df[train_df['TransNum']==1]['deck'].value_counts()\n",
    "Pclass2 = train_df[train_df['TransNum']==0]['deck'].value_counts()\n",
    "df = pd.DataFrame([Pclass1,Pclass2])\n",
    "df.index = ['survive','die']\n",
    "df.plot(kind='bar',stacked=True,figsize=(10,5))"
   ]
  },
  {
   "cell_type": "code",
   "execution_count": 19,
   "id": "fa1cfa44",
   "metadata": {
    "execution": {
     "iopub.execute_input": "2023-03-18T07:41:26.396280Z",
     "iopub.status.busy": "2023-03-18T07:41:26.395850Z",
     "iopub.status.idle": "2023-03-18T07:41:26.406941Z",
     "shell.execute_reply": "2023-03-18T07:41:26.405402Z"
    },
    "papermill": {
     "duration": 0.028804,
     "end_time": "2023-03-18T07:41:26.410173",
     "exception": false,
     "start_time": "2023-03-18T07:41:26.381369",
     "status": "completed"
    },
    "tags": []
   },
   "outputs": [],
   "source": [
    "train_df.drop(['deck','Cabin'],axis=1,inplace=True)\n",
    "test_df.drop(['Cabin'],axis=1,inplace=True)"
   ]
  },
  {
   "cell_type": "markdown",
   "id": "e2002e08",
   "metadata": {
    "papermill": {
     "duration": 0.012559,
     "end_time": "2023-03-18T07:41:26.435749",
     "exception": false,
     "start_time": "2023-03-18T07:41:26.423190",
     "status": "completed"
    },
    "tags": []
   },
   "source": [
    "#### 3.4 Destination"
   ]
  },
  {
   "cell_type": "code",
   "execution_count": 20,
   "id": "0f66e3c4",
   "metadata": {
    "execution": {
     "iopub.execute_input": "2023-03-18T07:41:26.464278Z",
     "iopub.status.busy": "2023-03-18T07:41:26.463633Z",
     "iopub.status.idle": "2023-03-18T07:41:26.474705Z",
     "shell.execute_reply": "2023-03-18T07:41:26.473105Z"
    },
    "papermill": {
     "duration": 0.030065,
     "end_time": "2023-03-18T07:41:26.478798",
     "exception": false,
     "start_time": "2023-03-18T07:41:26.448733",
     "status": "completed"
    },
    "tags": []
   },
   "outputs": [
    {
     "name": "stdout",
     "output_type": "stream",
     "text": [
      "TRAPPIST-1e      5915\n",
      "55 Cancri e      1800\n",
      "PSO J318.5-22     796\n",
      "Name: Destination, dtype: int64\n",
      "TRAPPIST-1e      2956\n",
      "55 Cancri e       841\n",
      "PSO J318.5-22     388\n",
      "Name: Destination, dtype: int64\n"
     ]
    }
   ],
   "source": [
    "print(train_df['Destination'].value_counts())\n",
    "print(test_df['Destination'].value_counts())"
   ]
  },
  {
   "cell_type": "code",
   "execution_count": 21,
   "id": "09096015",
   "metadata": {
    "execution": {
     "iopub.execute_input": "2023-03-18T07:41:26.508586Z",
     "iopub.status.busy": "2023-03-18T07:41:26.508169Z",
     "iopub.status.idle": "2023-03-18T07:41:26.529513Z",
     "shell.execute_reply": "2023-03-18T07:41:26.527640Z"
    },
    "papermill": {
     "duration": 0.039548,
     "end_time": "2023-03-18T07:41:26.532518",
     "exception": false,
     "start_time": "2023-03-18T07:41:26.492970",
     "status": "completed"
    },
    "tags": []
   },
   "outputs": [],
   "source": [
    "for df in [train_df,test_df]:\n",
    "    df['Destination'].fillna('TRAPPIST-1e',inplace=True)\n",
    "    df['Des_num'] = 1\n",
    "    df.loc[(df['Destination'] == '55 Cancri e'),'Des_num'] = 2\n",
    "    df.loc[(df['Destination'] == 'PSO J318.5-22'),'Des_num'] = 3\n",
    "    df.drop(['Destination'],axis=1,inplace=True)"
   ]
  },
  {
   "cell_type": "markdown",
   "id": "06b681cd",
   "metadata": {
    "papermill": {
     "duration": 0.013288,
     "end_time": "2023-03-18T07:41:26.559011",
     "exception": false,
     "start_time": "2023-03-18T07:41:26.545723",
     "status": "completed"
    },
    "tags": []
   },
   "source": [
    "#### 3.5 VIP"
   ]
  },
  {
   "cell_type": "code",
   "execution_count": 22,
   "id": "f4511aa4",
   "metadata": {
    "execution": {
     "iopub.execute_input": "2023-03-18T07:41:26.588198Z",
     "iopub.status.busy": "2023-03-18T07:41:26.587683Z",
     "iopub.status.idle": "2023-03-18T07:41:26.598206Z",
     "shell.execute_reply": "2023-03-18T07:41:26.597106Z"
    },
    "papermill": {
     "duration": 0.028644,
     "end_time": "2023-03-18T07:41:26.601115",
     "exception": false,
     "start_time": "2023-03-18T07:41:26.572471",
     "status": "completed"
    },
    "tags": []
   },
   "outputs": [
    {
     "data": {
      "text/plain": [
       "False    8291\n",
       "True      199\n",
       "Name: VIP, dtype: int64"
      ]
     },
     "execution_count": 22,
     "metadata": {},
     "output_type": "execute_result"
    }
   ],
   "source": [
    "train_df['VIP'].value_counts()"
   ]
  },
  {
   "cell_type": "code",
   "execution_count": 23,
   "id": "c43ef48e",
   "metadata": {
    "execution": {
     "iopub.execute_input": "2023-03-18T07:41:26.630476Z",
     "iopub.status.busy": "2023-03-18T07:41:26.630020Z",
     "iopub.status.idle": "2023-03-18T07:41:26.645857Z",
     "shell.execute_reply": "2023-03-18T07:41:26.644124Z"
    },
    "papermill": {
     "duration": 0.034556,
     "end_time": "2023-03-18T07:41:26.648885",
     "exception": false,
     "start_time": "2023-03-18T07:41:26.614329",
     "status": "completed"
    },
    "tags": []
   },
   "outputs": [],
   "source": [
    "for df in [train_df,test_df]:\n",
    "    df['VIP'].fillna(False, inplace = True)\n",
    "    df['VIPnum'] = 0\n",
    "    df.loc[(df['VIP']),'VIPnum'] = 1\n",
    "    df.drop(['VIP'],axis=1,inplace=True)"
   ]
  },
  {
   "cell_type": "code",
   "execution_count": 24,
   "id": "37e873d7",
   "metadata": {
    "execution": {
     "iopub.execute_input": "2023-03-18T07:41:26.679727Z",
     "iopub.status.busy": "2023-03-18T07:41:26.678524Z",
     "iopub.status.idle": "2023-03-18T07:41:26.709368Z",
     "shell.execute_reply": "2023-03-18T07:41:26.707633Z"
    },
    "papermill": {
     "duration": 0.049928,
     "end_time": "2023-03-18T07:41:26.712484",
     "exception": false,
     "start_time": "2023-03-18T07:41:26.662556",
     "status": "completed"
    },
    "tags": []
   },
   "outputs": [
    {
     "name": "stdout",
     "output_type": "stream",
     "text": [
      "Total null =  0\n"
     ]
    },
    {
     "data": {
      "text/html": [
       "<div>\n",
       "<style scoped>\n",
       "    .dataframe tbody tr th:only-of-type {\n",
       "        vertical-align: middle;\n",
       "    }\n",
       "\n",
       "    .dataframe tbody tr th {\n",
       "        vertical-align: top;\n",
       "    }\n",
       "\n",
       "    .dataframe thead th {\n",
       "        text-align: right;\n",
       "    }\n",
       "</style>\n",
       "<table border=\"1\" class=\"dataframe\">\n",
       "  <thead>\n",
       "    <tr style=\"text-align: right;\">\n",
       "      <th></th>\n",
       "      <th>Total</th>\n",
       "    </tr>\n",
       "  </thead>\n",
       "  <tbody>\n",
       "    <tr>\n",
       "      <th>HomePlanet</th>\n",
       "      <td>0</td>\n",
       "    </tr>\n",
       "    <tr>\n",
       "      <th>CryoSleep</th>\n",
       "      <td>0</td>\n",
       "    </tr>\n",
       "    <tr>\n",
       "      <th>Age</th>\n",
       "      <td>0</td>\n",
       "    </tr>\n",
       "    <tr>\n",
       "      <th>FoodCourt</th>\n",
       "      <td>0</td>\n",
       "    </tr>\n",
       "    <tr>\n",
       "      <th>ShoppingMall</th>\n",
       "      <td>0</td>\n",
       "    </tr>\n",
       "  </tbody>\n",
       "</table>\n",
       "</div>"
      ],
      "text/plain": [
       "              Total\n",
       "HomePlanet        0\n",
       "CryoSleep         0\n",
       "Age               0\n",
       "FoodCourt         0\n",
       "ShoppingMall      0"
      ]
     },
     "execution_count": 24,
     "metadata": {},
     "output_type": "execute_result"
    }
   ],
   "source": [
    "print('Total null = ', train_df.isnull().sum().sum())\n",
    "total = train_df.isnull().sum().sort_values(ascending=False)\n",
    "missing_data = pd.concat([total], axis=1, keys=['Total'])\n",
    "missing_data.head(5)"
   ]
  },
  {
   "cell_type": "code",
   "execution_count": 25,
   "id": "497b7ad6",
   "metadata": {
    "execution": {
     "iopub.execute_input": "2023-03-18T07:41:26.742041Z",
     "iopub.status.busy": "2023-03-18T07:41:26.741540Z",
     "iopub.status.idle": "2023-03-18T07:41:26.757787Z",
     "shell.execute_reply": "2023-03-18T07:41:26.755698Z"
    },
    "papermill": {
     "duration": 0.03438,
     "end_time": "2023-03-18T07:41:26.760913",
     "exception": false,
     "start_time": "2023-03-18T07:41:26.726533",
     "status": "completed"
    },
    "tags": []
   },
   "outputs": [
    {
     "name": "stdout",
     "output_type": "stream",
     "text": [
      "<class 'pandas.core.frame.DataFrame'>\n",
      "RangeIndex: 8693 entries, 0 to 8692\n",
      "Data columns (total 8 columns):\n",
      " #   Column        Non-Null Count  Dtype  \n",
      "---  ------        --------------  -----  \n",
      " 0   HomePlanet    8693 non-null   int64  \n",
      " 1   CryoSleep     8693 non-null   int64  \n",
      " 2   Age           8693 non-null   float64\n",
      " 3   FoodCourt     8693 non-null   float64\n",
      " 4   ShoppingMall  8693 non-null   float64\n",
      " 5   TransNum      8693 non-null   int64  \n",
      " 6   Des_num       8693 non-null   int64  \n",
      " 7   VIPnum        8693 non-null   int64  \n",
      "dtypes: float64(3), int64(5)\n",
      "memory usage: 543.4 KB\n"
     ]
    }
   ],
   "source": [
    "train_df.info()"
   ]
  },
  {
   "cell_type": "code",
   "execution_count": 26,
   "id": "6b1882e3",
   "metadata": {
    "execution": {
     "iopub.execute_input": "2023-03-18T07:41:26.790437Z",
     "iopub.status.busy": "2023-03-18T07:41:26.790006Z",
     "iopub.status.idle": "2023-03-18T07:41:26.804813Z",
     "shell.execute_reply": "2023-03-18T07:41:26.803017Z"
    },
    "papermill": {
     "duration": 0.033182,
     "end_time": "2023-03-18T07:41:26.807921",
     "exception": false,
     "start_time": "2023-03-18T07:41:26.774739",
     "status": "completed"
    },
    "tags": []
   },
   "outputs": [
    {
     "name": "stdout",
     "output_type": "stream",
     "text": [
      "<class 'pandas.core.frame.DataFrame'>\n",
      "RangeIndex: 4277 entries, 0 to 4276\n",
      "Data columns (total 7 columns):\n",
      " #   Column        Non-Null Count  Dtype  \n",
      "---  ------        --------------  -----  \n",
      " 0   HomePlanet    4277 non-null   int64  \n",
      " 1   CryoSleep     4277 non-null   int64  \n",
      " 2   Age           4277 non-null   float64\n",
      " 3   FoodCourt     4277 non-null   float64\n",
      " 4   ShoppingMall  4277 non-null   float64\n",
      " 5   Des_num       4277 non-null   int64  \n",
      " 6   VIPnum        4277 non-null   int64  \n",
      "dtypes: float64(3), int64(4)\n",
      "memory usage: 234.0 KB\n"
     ]
    }
   ],
   "source": [
    "test_df.info()"
   ]
  },
  {
   "cell_type": "code",
   "execution_count": 27,
   "id": "4e362281",
   "metadata": {
    "execution": {
     "iopub.execute_input": "2023-03-18T07:41:26.837864Z",
     "iopub.status.busy": "2023-03-18T07:41:26.837002Z",
     "iopub.status.idle": "2023-03-18T07:41:27.232922Z",
     "shell.execute_reply": "2023-03-18T07:41:27.231956Z"
    },
    "papermill": {
     "duration": 0.414463,
     "end_time": "2023-03-18T07:41:27.235991",
     "exception": false,
     "start_time": "2023-03-18T07:41:26.821528",
     "status": "completed"
    },
    "tags": []
   },
   "outputs": [
    {
     "data": {
      "text/plain": [
       "<AxesSubplot:>"
      ]
     },
     "execution_count": 27,
     "metadata": {},
     "output_type": "execute_result"
    },
    {
     "data": {
      "image/png": "[encoded data removed]",
      "text/plain": [
       "<Figure size 1400x1200 with 2 Axes>"
      ]
     },
     "metadata": {},
     "output_type": "display_data"
    }
   ],
   "source": [
    "corr_data = train_df[['TransNum', 'HomePlanet', 'CryoSleep', 'FoodCourt',\n",
    "                     'ShoppingMall', 'Des_num', 'VIPnum']]\n",
    "colormap = plt.cm.PuBu\n",
    "f, ax = plt.subplots(figsize = (14,12))\n",
    "sns.heatmap(corr_data.corr(),square = True, linewidths = 0.1,\n",
    "           cmap = colormap, linecolor = \"white\", vmax=0.8)"
   ]
  },
  {
   "cell_type": "markdown",
   "id": "6cd47411",
   "metadata": {
    "papermill": {
     "duration": 0.013834,
     "end_time": "2023-03-18T07:41:27.264249",
     "exception": false,
     "start_time": "2023-03-18T07:41:27.250415",
     "status": "completed"
    },
    "tags": []
   },
   "source": [
    "### 모델링"
   ]
  },
  {
   "cell_type": "code",
   "execution_count": 28,
   "id": "df24a629",
   "metadata": {
    "execution": {
     "iopub.execute_input": "2023-03-18T07:41:27.295265Z",
     "iopub.status.busy": "2023-03-18T07:41:27.294597Z",
     "iopub.status.idle": "2023-03-18T07:41:27.511971Z",
     "shell.execute_reply": "2023-03-18T07:41:27.510395Z"
    },
    "papermill": {
     "duration": 0.237521,
     "end_time": "2023-03-18T07:41:27.515999",
     "exception": false,
     "start_time": "2023-03-18T07:41:27.278478",
     "status": "completed"
    },
    "tags": []
   },
   "outputs": [],
   "source": [
    "import xgboost as xgb\n",
    "from xgboost import plot_importance\n",
    "from xgboost import XGBClassifier\n",
    "from sklearn.model_selection import train_test_split\n",
    "import warnings\n",
    "warnings.filterwarnings('ignore')"
   ]
  },
  {
   "cell_type": "code",
   "execution_count": 29,
   "id": "8e2af72a",
   "metadata": {
    "execution": {
     "iopub.execute_input": "2023-03-18T07:41:27.546381Z",
     "iopub.status.busy": "2023-03-18T07:41:27.545935Z",
     "iopub.status.idle": "2023-03-18T07:41:27.557497Z",
     "shell.execute_reply": "2023-03-18T07:41:27.555758Z"
    },
    "papermill": {
     "duration": 0.030406,
     "end_time": "2023-03-18T07:41:27.560651",
     "exception": false,
     "start_time": "2023-03-18T07:41:27.530245",
     "status": "completed"
    },
    "tags": []
   },
   "outputs": [],
   "source": [
    "y_train_df = train_df['TransNum']\n",
    "X_train_df = train_df.drop('TransNum',axis=1)\n",
    "X_train, X_test, y_train, y_test = train_test_split(X_train_df,\n",
    "        y_train_df, test_size = 0.2, random_state=11)"
   ]
  },
  {
   "cell_type": "code",
   "execution_count": 30,
   "id": "3abdded6",
   "metadata": {
    "execution": {
     "iopub.execute_input": "2023-03-18T07:41:27.595680Z",
     "iopub.status.busy": "2023-03-18T07:41:27.594990Z",
     "iopub.status.idle": "2023-03-18T07:41:28.588879Z",
     "shell.execute_reply": "2023-03-18T07:41:28.587318Z"
    },
    "papermill": {
     "duration": 1.017246,
     "end_time": "2023-03-18T07:41:28.592219",
     "exception": false,
     "start_time": "2023-03-18T07:41:27.574973",
     "status": "completed"
    },
    "tags": []
   },
   "outputs": [],
   "source": [
    "from hyperopt import STATUS_OK, Trials, fmin, hp, tpe\n",
    "from sklearn.metrics import accuracy_score\n",
    "space={'max_depth': hp.quniform(\"max_depth\", 3, 18, 1),\n",
    "        'gamma': hp.uniform ('gamma', 1,9),\n",
    "        'reg_alpha' : hp.quniform('reg_alpha', 40,180,1),\n",
    "        'reg_lambda' : hp.uniform('reg_lambda', 0,1),\n",
    "        'colsample_bytree' : hp.uniform('colsample_bytree', 0.5,1),\n",
    "        'min_child_weight' : hp.quniform('min_child_weight', 0, 10, 1),\n",
    "        'n_estimators': 180,\n",
    "        'seed': 0\n",
    "    }"
   ]
  },
  {
   "cell_type": "code",
   "execution_count": 31,
   "id": "a5069d7c",
   "metadata": {
    "execution": {
     "iopub.execute_input": "2023-03-18T07:41:28.623978Z",
     "iopub.status.busy": "2023-03-18T07:41:28.623377Z",
     "iopub.status.idle": "2023-03-18T07:41:28.632446Z",
     "shell.execute_reply": "2023-03-18T07:41:28.631004Z"
    },
    "papermill": {
     "duration": 0.028547,
     "end_time": "2023-03-18T07:41:28.635283",
     "exception": false,
     "start_time": "2023-03-18T07:41:28.606736",
     "status": "completed"
    },
    "tags": []
   },
   "outputs": [],
   "source": [
    "def objective(space):\n",
    "    clf=xgb.XGBClassifier(\n",
    "                    n_estimators =space['n_estimators'], max_depth = int(space['max_depth']), gamma = space['gamma'],\n",
    "                    reg_alpha = int(space['reg_alpha']),min_child_weight=int(space['min_child_weight']),\n",
    "                    colsample_bytree=int(space['colsample_bytree']))\n",
    "    \n",
    "    evaluation = [( X_train, y_train), ( X_test, y_test)]\n",
    "    \n",
    "    clf.fit(X_train, y_train,\n",
    "            eval_set=evaluation, eval_metric=\"auc\",\n",
    "            early_stopping_rounds=10,verbose=False)\n",
    "    \n",
    "\n",
    "    pred = clf.predict(X_test)\n",
    "    accuracy = accuracy_score(y_test, pred>0.5)\n",
    "    print (\"SCORE:\", accuracy)\n",
    "    return {'loss': -accuracy, 'status': STATUS_OK }"
   ]
  },
  {
   "cell_type": "code",
   "execution_count": 32,
   "id": "34a79a75",
   "metadata": {
    "execution": {
     "iopub.execute_input": "2023-03-18T07:41:28.667426Z",
     "iopub.status.busy": "2023-03-18T07:41:28.666553Z",
     "iopub.status.idle": "2023-03-18T07:42:00.234636Z",
     "shell.execute_reply": "2023-03-18T07:42:00.233290Z"
    },
    "papermill": {
     "duration": 31.590907,
     "end_time": "2023-03-18T07:42:00.240877",
     "exception": false,
     "start_time": "2023-03-18T07:41:28.649970",
     "status": "completed"
    },
    "tags": []
   },
   "outputs": [
    {
     "name": "stdout",
     "output_type": "stream",
     "text": [
      "SCORE:\n",
      "0.7291546866014951\n",
      "SCORE:\n",
      "0.7291546866014951\n",
      "SCORE:\n",
      "0.6894767107533065\n",
      "SCORE:\n",
      "0.6894767107533065\n",
      "SCORE:\n",
      "0.6894767107533065\n",
      "SCORE:\n",
      "0.7274295572167913\n",
      "SCORE:\n",
      "0.660149511213341\n",
      "SCORE:\n",
      "0.7280046003450259\n",
      "SCORE:\n",
      "0.660149511213341\n",
      "SCORE:\n",
      "0.7285796434732605\n",
      "SCORE:\n",
      "0.660149511213341\n",
      "SCORE:\n",
      "0.6630247268545141\n",
      "SCORE:\n",
      "0.660149511213341\n",
      "SCORE:\n",
      "0.6894767107533065\n",
      "SCORE:\n",
      "0.7280046003450259\n",
      "SCORE:\n",
      "0.6618746405980449\n",
      "SCORE:\n",
      "0.7280046003450259\n",
      "SCORE:\n",
      "0.6630247268545141\n",
      "SCORE:\n",
      "0.6630247268545141\n",
      "SCORE:\n",
      "0.7291546866014951\n",
      "SCORE:\n",
      "0.6630247268545141\n",
      "SCORE:\n",
      "0.7285796434732605\n",
      "SCORE:\n",
      "0.6630247268545141\n",
      "SCORE:\n",
      "0.7222541690626797\n",
      "SCORE:\n",
      "0.7280046003450259\n",
      "SCORE:\n",
      "0.660149511213341\n",
      "SCORE:\n",
      "0.7245543415756182\n",
      "SCORE:\n",
      "0.7291546866014951\n",
      "SCORE:\n",
      "0.7274295572167913\n",
      "SCORE:\n",
      "0.726279470960322\n",
      "SCORE:\n",
      "0.684301322599195\n",
      "SCORE:\n",
      "0.726279470960322\n",
      "SCORE:\n",
      "0.660149511213341\n",
      "SCORE:\n",
      "0.7285796434732605\n",
      "SCORE:\n",
      "0.6630247268545141\n",
      "SCORE:\n",
      "0.7274295572167913\n",
      "SCORE:\n",
      "0.6630247268545141\n",
      "SCORE:\n",
      "0.7285796434732605\n",
      "SCORE:\n",
      "0.6894767107533065\n",
      "SCORE:\n",
      "0.7268545140885566\n",
      "SCORE:\n",
      "0.7274295572167913\n",
      "SCORE:\n",
      "0.7245543415756182\n",
      "SCORE:\n",
      "0.6612995974698103\n",
      "SCORE:\n",
      "0.7280046003450259\n",
      "SCORE:\n",
      "0.660149511213341\n",
      "SCORE:\n",
      "0.7285796434732605\n",
      "SCORE:\n",
      "0.6612995974698103\n",
      "SCORE:\n",
      "0.7251293847038528\n",
      "SCORE:\n",
      "0.7285796434732605\n",
      "SCORE:\n",
      "0.730879815986199\n",
      "SCORE:\n",
      "0.730879815986199\n",
      "SCORE:\n",
      "0.660149511213341\n",
      "SCORE:\n",
      "0.6630247268545141\n",
      "SCORE:\n",
      "0.660149511213341\n",
      "SCORE:\n",
      "0.726279470960322\n",
      "SCORE:\n",
      "0.7245543415756182\n",
      "SCORE:\n",
      "0.6630247268545141\n",
      "SCORE:\n",
      "0.7280046003450259\n",
      "SCORE:\n",
      "0.660149511213341\n",
      "SCORE:\n",
      "0.6607245543415756\n",
      "SCORE:\n",
      "0.6607245543415756\n",
      "SCORE:\n",
      "0.6630247268545141\n",
      "SCORE:\n",
      "0.7280046003450259\n",
      "SCORE:\n",
      "0.6630247268545141\n",
      "SCORE:\n",
      "0.726279470960322\n",
      "SCORE:\n",
      "0.726279470960322\n",
      "SCORE:\n",
      "0.7280046003450259\n",
      "SCORE:\n",
      "0.6618746405980449\n",
      "SCORE:\n",
      "0.7291546866014951\n",
      "SCORE:\n",
      "0.726279470960322\n",
      "SCORE:\n",
      "0.6630247268545141\n",
      "SCORE:\n",
      "0.7251293847038528\n",
      "SCORE:\n",
      "0.7280046003450259\n",
      "SCORE:\n",
      "0.7245543415756182\n",
      "SCORE:\n",
      "0.7285796434732605\n",
      "SCORE:\n",
      "0.730879815986199\n",
      "SCORE:\n",
      "0.730879815986199\n",
      "SCORE:\n",
      "0.7222541690626797\n",
      "SCORE:\n",
      "0.6595744680851063\n",
      "SCORE:\n",
      "0.730879815986199\n",
      "SCORE:\n",
      "0.7251293847038528\n",
      "SCORE:\n",
      "0.6630247268545141\n",
      "SCORE:\n",
      "0.660149511213341\n",
      "SCORE:\n",
      "0.7251293847038528\n",
      "SCORE:\n",
      "0.6618746405980449\n",
      "SCORE:\n",
      "0.730879815986199\n",
      "SCORE:\n",
      "0.6894767107533065\n",
      "SCORE:\n",
      "0.6630247268545141\n",
      "SCORE:\n",
      "0.7280046003450259\n",
      "SCORE:\n",
      "0.6630247268545141\n",
      "SCORE:\n",
      "0.7280046003450259\n",
      "SCORE:\n",
      "0.7274295572167913\n",
      "SCORE:\n",
      "0.6612995974698103\n",
      "SCORE:\n",
      "0.7245543415756182\n",
      "SCORE:\n",
      "0.7280046003450259\n",
      "SCORE:\n",
      "0.7222541690626797\n",
      "SCORE:\n",
      "0.726279470960322\n",
      "SCORE:\n",
      "0.660149511213341\n",
      "SCORE:\n",
      "0.726279470960322\n",
      "SCORE:\n",
      "0.6630247268545141\n",
      "100%|██████████| 100/100 [00:31<00:00,  3.17trial/s, best loss: -0.730879815986199]\n"
     ]
    }
   ],
   "source": [
    "trials = Trials()\n",
    "\n",
    "best_hyperparams = fmin(fn = objective,\n",
    "                        space = space,\n",
    "                        algo = tpe.suggest,\n",
    "                        max_evals = 100,\n",
    "                        trials = trials)"
   ]
  },
  {
   "cell_type": "code",
   "execution_count": 33,
   "id": "606bed57",
   "metadata": {
    "execution": {
     "iopub.execute_input": "2023-03-18T07:42:00.358257Z",
     "iopub.status.busy": "2023-03-18T07:42:00.357844Z",
     "iopub.status.idle": "2023-03-18T07:42:00.363859Z",
     "shell.execute_reply": "2023-03-18T07:42:00.362289Z"
    },
    "papermill": {
     "duration": 0.06822,
     "end_time": "2023-03-18T07:42:00.367541",
     "exception": false,
     "start_time": "2023-03-18T07:42:00.299321",
     "status": "completed"
    },
    "tags": []
   },
   "outputs": [
    {
     "name": "stdout",
     "output_type": "stream",
     "text": [
      "{'colsample_bytree': 0.6043031595249713, 'gamma': 5.074463335561938, 'max_depth': 11.0, 'min_child_weight': 6.0, 'reg_alpha': 81.0, 'reg_lambda': 0.29546362918115726}\n"
     ]
    }
   ],
   "source": [
    "print(best_hyperparams)"
   ]
  },
  {
   "cell_type": "code",
   "execution_count": 34,
   "id": "63ded02b",
   "metadata": {
    "execution": {
     "iopub.execute_input": "2023-03-18T07:42:00.485178Z",
     "iopub.status.busy": "2023-03-18T07:42:00.484759Z",
     "iopub.status.idle": "2023-03-18T07:42:00.852846Z",
     "shell.execute_reply": "2023-03-18T07:42:00.851725Z"
    },
    "papermill": {
     "duration": 0.42987,
     "end_time": "2023-03-18T07:42:00.855716",
     "exception": false,
     "start_time": "2023-03-18T07:42:00.425846",
     "status": "completed"
    },
    "tags": []
   },
   "outputs": [
    {
     "data": {
      "text/plain": [
       "XGBClassifier(base_score=0.5, booster='gbtree', callbacks=None,\n",
       "              colsample_bylevel=1, colsample_bynode=1,\n",
       "              colsample_bytree=0.7209900478002447, early_stopping_rounds=None,\n",
       "              enable_categorical=False, eval_metric=None,\n",
       "              gamma=3.9981954741983894, gpu_id=-1, grow_policy='depthwise',\n",
       "              importance_type=None, interaction_constraints='',\n",
       "              learning_rate=0.300000012, max_bin=256, max_cat_to_onehot=4,\n",
       "              max_delta_step=0, max_depth=14, max_leaves=0,\n",
       "              min_child_weight=10.0, missing=nan, monotone_constraints='()',\n",
       "              n_estimators=100, n_jobs=0, num_parallel_tree=1, predictor='auto',\n",
       "              random_state=0, reg_alpha=76.0, reg_lambda=0.36894584904759925, ...)"
      ]
     },
     "execution_count": 34,
     "metadata": {},
     "output_type": "execute_result"
    }
   ],
   "source": [
    "model = xgb.XGBClassifier(colsample_bytree= 0.7209900478002447, gamma= 3.9981954741983894,\n",
    "                          max_depth= 14, min_child_weight= 10.0, reg_alpha= 76.0,\n",
    "                          reg_lambda= 0.36894584904759925)\n",
    "model.fit(X_train,y_train)"
   ]
  },
  {
   "cell_type": "code",
   "execution_count": 35,
   "id": "f2ce3158",
   "metadata": {
    "execution": {
     "iopub.execute_input": "2023-03-18T07:42:00.975155Z",
     "iopub.status.busy": "2023-03-18T07:42:00.973892Z",
     "iopub.status.idle": "2023-03-18T07:42:00.995029Z",
     "shell.execute_reply": "2023-03-18T07:42:00.993829Z"
    },
    "papermill": {
     "duration": 0.082569,
     "end_time": "2023-03-18T07:42:00.997982",
     "exception": false,
     "start_time": "2023-03-18T07:42:00.915413",
     "status": "completed"
    },
    "tags": []
   },
   "outputs": [
    {
     "data": {
      "text/plain": [
       "0.7364106988783434"
      ]
     },
     "execution_count": 35,
     "metadata": {},
     "output_type": "execute_result"
    }
   ],
   "source": [
    "model.score(X_train,y_train)"
   ]
  },
  {
   "cell_type": "markdown",
   "id": "bc3e13a9",
   "metadata": {
    "papermill": {
     "duration": 0.057216,
     "end_time": "2023-03-18T07:42:01.115196",
     "exception": false,
     "start_time": "2023-03-18T07:42:01.057980",
     "status": "completed"
    },
    "tags": []
   },
   "source": [
    "### Make answer"
   ]
  },
  {
   "cell_type": "code",
   "execution_count": 36,
   "id": "a2ad6b20",
   "metadata": {
    "execution": {
     "iopub.execute_input": "2023-03-18T07:42:01.234188Z",
     "iopub.status.busy": "2023-03-18T07:42:01.233762Z",
     "iopub.status.idle": "2023-03-18T07:42:01.262331Z",
     "shell.execute_reply": "2023-03-18T07:42:01.258766Z"
    },
    "papermill": {
     "duration": 0.092126,
     "end_time": "2023-03-18T07:42:01.266410",
     "exception": false,
     "start_time": "2023-03-18T07:42:01.174284",
     "status": "completed"
    },
    "tags": []
   },
   "outputs": [
    {
     "name": "stdout",
     "output_type": "stream",
     "text": [
      "     PassengerId  Transported\n",
      "0        0013_01         True\n",
      "1        0018_01        False\n",
      "2        0019_01         True\n",
      "3        0021_01        False\n",
      "4        0023_01        False\n",
      "...          ...          ...\n",
      "4272     9266_02         True\n",
      "4273     9269_01        False\n",
      "4274     9271_01         True\n",
      "4275     9273_01        False\n",
      "4276     9277_01         True\n",
      "\n",
      "[4277 rows x 2 columns]\n"
     ]
    }
   ],
   "source": [
    "X_test = test_df.values\n",
    "pred_ans = model.predict(X_test)\n",
    "ans_df = pd.DataFrame()\n",
    "ans_df['PassengerId'] = test_id\n",
    "ans_df['TransNum'] = pred_ans\n",
    "ans_df['Transported'] = True\n",
    "ans_df.loc[(ans_df['TransNum'] == 0),'Transported'] = False\n",
    "ans_df.drop(['TransNum'],axis=1,inplace=True)\n",
    "print(ans_df)"
   ]
  },
  {
   "cell_type": "code",
   "execution_count": 37,
   "id": "c5217ad3",
   "metadata": {
    "execution": {
     "iopub.execute_input": "2023-03-18T07:42:01.384562Z",
     "iopub.status.busy": "2023-03-18T07:42:01.383212Z",
     "iopub.status.idle": "2023-03-18T07:42:01.400855Z",
     "shell.execute_reply": "2023-03-18T07:42:01.399618Z"
    },
    "papermill": {
     "duration": 0.079647,
     "end_time": "2023-03-18T07:42:01.403960",
     "exception": false,
     "start_time": "2023-03-18T07:42:01.324313",
     "status": "completed"
    },
    "tags": []
   },
   "outputs": [],
   "source": [
    "ans_df.to_csv('/kaggle/working/spaceship_answer.csv',index=False)"
   ]
  }
 ],
 "metadata": {
  "kernelspec": {
   "display_name": "Python 3",
   "language": "python",
   "name": "python3"
  },
  "language_info": {
   "codemirror_mode": {
    "name": "ipython",
    "version": 3
   },
   "file_extension": ".py",
   "mimetype": "text/x-python",
   "name": "python",
   "nbconvert_exporter": "python",
   "pygments_lexer": "ipython3",
   "version": "3.7.12"
  },
  "papermill": {
   "default_parameters": {},
   "duration": 51.47681,
   "end_time": "2023-03-18T07:42:02.386626",
   "environment_variables": {},
   "exception": null,
   "input_path": "__notebook__.ipynb",
   "output_path": "__notebook__.ipynb",
   "parameters": {},
   "start_time": "2023-03-18T07:41:10.909816",
   "version": "2.4.0"
  }
 },
 "nbformat": 4,
 "nbformat_minor": 5
}
