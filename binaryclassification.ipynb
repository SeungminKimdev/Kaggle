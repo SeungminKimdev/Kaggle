{
 "cells": [
  {
   "cell_type": "code",
   "execution_count": 1,
   "id": "d0c8859c",
   "metadata": {
    "_cell_guid": "b1076dfc-b9ad-4769-8c92-a6c4dae69d19",
    "_uuid": "8f2839f25d086af736a60e9eeb907d3b93b6e0e5",
    "execution": {
     "iopub.execute_input": "2024-01-09T06:07:21.670051Z",
     "iopub.status.busy": "2024-01-09T06:07:21.669539Z",
     "iopub.status.idle": "2024-01-09T06:07:22.108614Z",
     "shell.execute_reply": "2024-01-09T06:07:22.107345Z"
    },
    "papermill": {
     "duration": 0.451709,
     "end_time": "2024-01-09T06:07:22.111046",
     "exception": false,
     "start_time": "2024-01-09T06:07:21.659337",
     "status": "completed"
    },
    "tags": []
   },
   "outputs": [
    {
     "name": "stdout",
     "output_type": "stream",
     "text": [
      "/kaggle/input/playground-series-s4e1/sample_submission.csv\n",
      "/kaggle/input/playground-series-s4e1/train.csv\n",
      "/kaggle/input/playground-series-s4e1/test.csv\n"
     ]
    }
   ],
   "source": [
    "# This Python 3 environment comes with many helpful analytics libraries installed\n",
    "# It is defined by the kaggle/python Docker image: https://github.com/kaggle/docker-python\n",
    "# For example, here's several helpful packages to load\n",
    "\n",
    "import numpy as np # linear algebra\n",
    "import pandas as pd # data processing, CSV file I/O (e.g. pd.read_csv)\n",
    "\n",
    "# Input data files are available in the read-only \"../input/\" directory\n",
    "# For example, running this (by clicking run or pressing Shift+Enter) will list all files under the input directory\n",
    "\n",
    "import os\n",
    "for dirname, _, filenames in os.walk('/kaggle/input'):\n",
    "    for filename in filenames:\n",
    "        print(os.path.join(dirname, filename))\n",
    "\n",
    "# You can write up to 20GB to the current directory (/kaggle/working/) that gets preserved as output when you create a version using \"Save & Run All\" \n",
    "# You can also write temporary files to /kaggle/temp/, but they won't be saved outside of the current session"
   ]
  },
  {
   "cell_type": "code",
   "execution_count": 2,
   "id": "08ff404a",
   "metadata": {
    "execution": {
     "iopub.execute_input": "2024-01-09T06:07:22.130236Z",
     "iopub.status.busy": "2024-01-09T06:07:22.129437Z",
     "iopub.status.idle": "2024-01-09T06:07:22.671819Z",
     "shell.execute_reply": "2024-01-09T06:07:22.670618Z"
    },
    "papermill": {
     "duration": 0.554881,
     "end_time": "2024-01-09T06:07:22.674535",
     "exception": false,
     "start_time": "2024-01-09T06:07:22.119654",
     "status": "completed"
    },
    "tags": []
   },
   "outputs": [
    {
     "data": {
      "text/html": [
       "<div>\n",
       "<style scoped>\n",
       "    .dataframe tbody tr th:only-of-type {\n",
       "        vertical-align: middle;\n",
       "    }\n",
       "\n",
       "    .dataframe tbody tr th {\n",
       "        vertical-align: top;\n",
       "    }\n",
       "\n",
       "    .dataframe thead th {\n",
       "        text-align: right;\n",
       "    }\n",
       "</style>\n",
       "<table border=\"1\" class=\"dataframe\">\n",
       "  <thead>\n",
       "    <tr style=\"text-align: right;\">\n",
       "      <th></th>\n",
       "      <th>id</th>\n",
       "      <th>CustomerId</th>\n",
       "      <th>Surname</th>\n",
       "      <th>CreditScore</th>\n",
       "      <th>Geography</th>\n",
       "      <th>Gender</th>\n",
       "      <th>Age</th>\n",
       "      <th>Tenure</th>\n",
       "      <th>Balance</th>\n",
       "      <th>NumOfProducts</th>\n",
       "      <th>HasCrCard</th>\n",
       "      <th>IsActiveMember</th>\n",
       "      <th>EstimatedSalary</th>\n",
       "    </tr>\n",
       "  </thead>\n",
       "  <tbody>\n",
       "    <tr>\n",
       "      <th>0</th>\n",
       "      <td>0</td>\n",
       "      <td>15674932</td>\n",
       "      <td>Okwudilichukwu</td>\n",
       "      <td>668</td>\n",
       "      <td>France</td>\n",
       "      <td>Male</td>\n",
       "      <td>33.0</td>\n",
       "      <td>3</td>\n",
       "      <td>0.00</td>\n",
       "      <td>2</td>\n",
       "      <td>1.0</td>\n",
       "      <td>0.0</td>\n",
       "      <td>181449.97</td>\n",
       "    </tr>\n",
       "    <tr>\n",
       "      <th>1</th>\n",
       "      <td>1</td>\n",
       "      <td>15749177</td>\n",
       "      <td>Okwudiliolisa</td>\n",
       "      <td>627</td>\n",
       "      <td>France</td>\n",
       "      <td>Male</td>\n",
       "      <td>33.0</td>\n",
       "      <td>1</td>\n",
       "      <td>0.00</td>\n",
       "      <td>2</td>\n",
       "      <td>1.0</td>\n",
       "      <td>1.0</td>\n",
       "      <td>49503.50</td>\n",
       "    </tr>\n",
       "    <tr>\n",
       "      <th>2</th>\n",
       "      <td>2</td>\n",
       "      <td>15694510</td>\n",
       "      <td>Hsueh</td>\n",
       "      <td>678</td>\n",
       "      <td>France</td>\n",
       "      <td>Male</td>\n",
       "      <td>40.0</td>\n",
       "      <td>10</td>\n",
       "      <td>0.00</td>\n",
       "      <td>2</td>\n",
       "      <td>1.0</td>\n",
       "      <td>0.0</td>\n",
       "      <td>184866.69</td>\n",
       "    </tr>\n",
       "    <tr>\n",
       "      <th>3</th>\n",
       "      <td>3</td>\n",
       "      <td>15741417</td>\n",
       "      <td>Kao</td>\n",
       "      <td>581</td>\n",
       "      <td>France</td>\n",
       "      <td>Male</td>\n",
       "      <td>34.0</td>\n",
       "      <td>2</td>\n",
       "      <td>148882.54</td>\n",
       "      <td>1</td>\n",
       "      <td>1.0</td>\n",
       "      <td>1.0</td>\n",
       "      <td>84560.88</td>\n",
       "    </tr>\n",
       "    <tr>\n",
       "      <th>4</th>\n",
       "      <td>4</td>\n",
       "      <td>15766172</td>\n",
       "      <td>Chiemenam</td>\n",
       "      <td>716</td>\n",
       "      <td>Spain</td>\n",
       "      <td>Male</td>\n",
       "      <td>33.0</td>\n",
       "      <td>5</td>\n",
       "      <td>0.00</td>\n",
       "      <td>2</td>\n",
       "      <td>1.0</td>\n",
       "      <td>1.0</td>\n",
       "      <td>15068.83</td>\n",
       "    </tr>\n",
       "  </tbody>\n",
       "</table>\n",
       "</div>"
      ],
      "text/plain": [
       "   id  CustomerId         Surname  CreditScore Geography Gender   Age  Tenure  \\\n",
       "0   0    15674932  Okwudilichukwu          668    France   Male  33.0       3   \n",
       "1   1    15749177   Okwudiliolisa          627    France   Male  33.0       1   \n",
       "2   2    15694510           Hsueh          678    France   Male  40.0      10   \n",
       "3   3    15741417             Kao          581    France   Male  34.0       2   \n",
       "4   4    15766172       Chiemenam          716     Spain   Male  33.0       5   \n",
       "\n",
       "     Balance  NumOfProducts  HasCrCard  IsActiveMember  EstimatedSalary  \n",
       "0       0.00              2        1.0             0.0        181449.97  \n",
       "1       0.00              2        1.0             1.0         49503.50  \n",
       "2       0.00              2        1.0             0.0        184866.69  \n",
       "3  148882.54              1        1.0             1.0         84560.88  \n",
       "4       0.00              2        1.0             1.0         15068.83  "
      ]
     },
     "execution_count": 2,
     "metadata": {},
     "output_type": "execute_result"
    }
   ],
   "source": [
    "X = pd.read_csv('/kaggle/input/playground-series-s4e1/train.csv')\n",
    "y = X.Exited\n",
    "X.drop(['Exited'],axis=1,inplace=True)\n",
    "X.head(5)"
   ]
  },
  {
   "cell_type": "code",
   "execution_count": 3,
   "id": "8c045445",
   "metadata": {
    "execution": {
     "iopub.execute_input": "2024-01-09T06:07:22.693708Z",
     "iopub.status.busy": "2024-01-09T06:07:22.693292Z",
     "iopub.status.idle": "2024-01-09T06:07:22.772933Z",
     "shell.execute_reply": "2024-01-09T06:07:22.771515Z"
    },
    "papermill": {
     "duration": 0.092416,
     "end_time": "2024-01-09T06:07:22.775715",
     "exception": false,
     "start_time": "2024-01-09T06:07:22.683299",
     "status": "completed"
    },
    "tags": []
   },
   "outputs": [
    {
     "name": "stdout",
     "output_type": "stream",
     "text": [
      "<class 'pandas.core.frame.DataFrame'>\n",
      "RangeIndex: 165034 entries, 0 to 165033\n",
      "Data columns (total 13 columns):\n",
      " #   Column           Non-Null Count   Dtype  \n",
      "---  ------           --------------   -----  \n",
      " 0   id               165034 non-null  int64  \n",
      " 1   CustomerId       165034 non-null  int64  \n",
      " 2   Surname          165034 non-null  object \n",
      " 3   CreditScore      165034 non-null  int64  \n",
      " 4   Geography        165034 non-null  object \n",
      " 5   Gender           165034 non-null  object \n",
      " 6   Age              165034 non-null  float64\n",
      " 7   Tenure           165034 non-null  int64  \n",
      " 8   Balance          165034 non-null  float64\n",
      " 9   NumOfProducts    165034 non-null  int64  \n",
      " 10  HasCrCard        165034 non-null  float64\n",
      " 11  IsActiveMember   165034 non-null  float64\n",
      " 12  EstimatedSalary  165034 non-null  float64\n",
      "dtypes: float64(5), int64(5), object(3)\n",
      "memory usage: 16.4+ MB\n"
     ]
    }
   ],
   "source": [
    "X.info()"
   ]
  },
  {
   "cell_type": "code",
   "execution_count": 4,
   "id": "508a28b9",
   "metadata": {
    "execution": {
     "iopub.execute_input": "2024-01-09T06:07:22.797102Z",
     "iopub.status.busy": "2024-01-09T06:07:22.795885Z",
     "iopub.status.idle": "2024-01-09T06:07:22.830715Z",
     "shell.execute_reply": "2024-01-09T06:07:22.829719Z"
    },
    "papermill": {
     "duration": 0.047415,
     "end_time": "2024-01-09T06:07:22.832888",
     "exception": false,
     "start_time": "2024-01-09T06:07:22.785473",
     "status": "completed"
    },
    "tags": []
   },
   "outputs": [
    {
     "data": {
      "text/plain": [
       "Geography\n",
       "France     94215\n",
       "Spain      36213\n",
       "Germany    34606\n",
       "Name: count, dtype: int64"
      ]
     },
     "execution_count": 4,
     "metadata": {},
     "output_type": "execute_result"
    }
   ],
   "source": [
    "X['Geography'].value_counts()"
   ]
  },
  {
   "cell_type": "code",
   "execution_count": 5,
   "id": "1f9730b0",
   "metadata": {
    "execution": {
     "iopub.execute_input": "2024-01-09T06:07:22.853102Z",
     "iopub.status.busy": "2024-01-09T06:07:22.852307Z",
     "iopub.status.idle": "2024-01-09T06:07:22.868864Z",
     "shell.execute_reply": "2024-01-09T06:07:22.867668Z"
    },
    "papermill": {
     "duration": 0.029523,
     "end_time": "2024-01-09T06:07:22.871570",
     "exception": false,
     "start_time": "2024-01-09T06:07:22.842047",
     "status": "completed"
    },
    "tags": []
   },
   "outputs": [],
   "source": [
    "X_drop = X.drop(['id','CustomerId','Surname'],axis=1)"
   ]
  },
  {
   "cell_type": "code",
   "execution_count": 6,
   "id": "e93f7c4b",
   "metadata": {
    "execution": {
     "iopub.execute_input": "2024-01-09T06:07:22.892010Z",
     "iopub.status.busy": "2024-01-09T06:07:22.891566Z",
     "iopub.status.idle": "2024-01-09T06:07:24.335464Z",
     "shell.execute_reply": "2024-01-09T06:07:24.334399Z"
    },
    "papermill": {
     "duration": 1.457543,
     "end_time": "2024-01-09T06:07:24.338294",
     "exception": false,
     "start_time": "2024-01-09T06:07:22.880751",
     "status": "completed"
    },
    "tags": []
   },
   "outputs": [],
   "source": [
    "from sklearn.preprocessing import OneHotEncoder\n",
    "oh_G = OneHotEncoder(sparse_output = False)\n",
    "ohe_Gender = oh_G.fit_transform(X_drop[['Gender']])\n",
    "ohe_Gender_pd = pd.DataFrame(ohe_Gender, columns=[str(oh_G.categories_[0][i]) for i in range (len(oh_G.categories_[0]))])\n",
    "\n",
    "oh_Gp = OneHotEncoder(sparse_output = False)\n",
    "ohe_Geography = oh_Gp.fit_transform(X_drop[['Geography']])\n",
    "ohe_Geography_pd = pd.DataFrame(ohe_Geography, columns=[str(oh_Gp.categories_[0][i]) for i in range (len(oh_Gp.categories_[0]))])\n",
    "\n",
    "OH_X_drop = pd.concat([X_drop,ohe_Gender_pd,ohe_Geography_pd],axis=1)\n",
    "OH_X_drop.drop(['Gender','Geography'],axis=1,inplace=True)"
   ]
  },
  {
   "cell_type": "code",
   "execution_count": 7,
   "id": "977afef3",
   "metadata": {
    "execution": {
     "iopub.execute_input": "2024-01-09T06:07:24.358023Z",
     "iopub.status.busy": "2024-01-09T06:07:24.357581Z",
     "iopub.status.idle": "2024-01-09T06:07:24.381746Z",
     "shell.execute_reply": "2024-01-09T06:07:24.380607Z"
    },
    "papermill": {
     "duration": 0.037124,
     "end_time": "2024-01-09T06:07:24.384520",
     "exception": false,
     "start_time": "2024-01-09T06:07:24.347396",
     "status": "completed"
    },
    "tags": []
   },
   "outputs": [
    {
     "data": {
      "text/html": [
       "<div>\n",
       "<style scoped>\n",
       "    .dataframe tbody tr th:only-of-type {\n",
       "        vertical-align: middle;\n",
       "    }\n",
       "\n",
       "    .dataframe tbody tr th {\n",
       "        vertical-align: top;\n",
       "    }\n",
       "\n",
       "    .dataframe thead th {\n",
       "        text-align: right;\n",
       "    }\n",
       "</style>\n",
       "<table border=\"1\" class=\"dataframe\">\n",
       "  <thead>\n",
       "    <tr style=\"text-align: right;\">\n",
       "      <th></th>\n",
       "      <th>CreditScore</th>\n",
       "      <th>Age</th>\n",
       "      <th>Tenure</th>\n",
       "      <th>Balance</th>\n",
       "      <th>NumOfProducts</th>\n",
       "      <th>HasCrCard</th>\n",
       "      <th>IsActiveMember</th>\n",
       "      <th>EstimatedSalary</th>\n",
       "      <th>Female</th>\n",
       "      <th>Male</th>\n",
       "      <th>France</th>\n",
       "      <th>Germany</th>\n",
       "      <th>Spain</th>\n",
       "    </tr>\n",
       "  </thead>\n",
       "  <tbody>\n",
       "    <tr>\n",
       "      <th>0</th>\n",
       "      <td>668</td>\n",
       "      <td>33.0</td>\n",
       "      <td>3</td>\n",
       "      <td>0.00</td>\n",
       "      <td>2</td>\n",
       "      <td>1.0</td>\n",
       "      <td>0.0</td>\n",
       "      <td>181449.97</td>\n",
       "      <td>0.0</td>\n",
       "      <td>1.0</td>\n",
       "      <td>1.0</td>\n",
       "      <td>0.0</td>\n",
       "      <td>0.0</td>\n",
       "    </tr>\n",
       "    <tr>\n",
       "      <th>1</th>\n",
       "      <td>627</td>\n",
       "      <td>33.0</td>\n",
       "      <td>1</td>\n",
       "      <td>0.00</td>\n",
       "      <td>2</td>\n",
       "      <td>1.0</td>\n",
       "      <td>1.0</td>\n",
       "      <td>49503.50</td>\n",
       "      <td>0.0</td>\n",
       "      <td>1.0</td>\n",
       "      <td>1.0</td>\n",
       "      <td>0.0</td>\n",
       "      <td>0.0</td>\n",
       "    </tr>\n",
       "    <tr>\n",
       "      <th>2</th>\n",
       "      <td>678</td>\n",
       "      <td>40.0</td>\n",
       "      <td>10</td>\n",
       "      <td>0.00</td>\n",
       "      <td>2</td>\n",
       "      <td>1.0</td>\n",
       "      <td>0.0</td>\n",
       "      <td>184866.69</td>\n",
       "      <td>0.0</td>\n",
       "      <td>1.0</td>\n",
       "      <td>1.0</td>\n",
       "      <td>0.0</td>\n",
       "      <td>0.0</td>\n",
       "    </tr>\n",
       "    <tr>\n",
       "      <th>3</th>\n",
       "      <td>581</td>\n",
       "      <td>34.0</td>\n",
       "      <td>2</td>\n",
       "      <td>148882.54</td>\n",
       "      <td>1</td>\n",
       "      <td>1.0</td>\n",
       "      <td>1.0</td>\n",
       "      <td>84560.88</td>\n",
       "      <td>0.0</td>\n",
       "      <td>1.0</td>\n",
       "      <td>1.0</td>\n",
       "      <td>0.0</td>\n",
       "      <td>0.0</td>\n",
       "    </tr>\n",
       "    <tr>\n",
       "      <th>4</th>\n",
       "      <td>716</td>\n",
       "      <td>33.0</td>\n",
       "      <td>5</td>\n",
       "      <td>0.00</td>\n",
       "      <td>2</td>\n",
       "      <td>1.0</td>\n",
       "      <td>1.0</td>\n",
       "      <td>15068.83</td>\n",
       "      <td>0.0</td>\n",
       "      <td>1.0</td>\n",
       "      <td>0.0</td>\n",
       "      <td>0.0</td>\n",
       "      <td>1.0</td>\n",
       "    </tr>\n",
       "  </tbody>\n",
       "</table>\n",
       "</div>"
      ],
      "text/plain": [
       "   CreditScore   Age  Tenure    Balance  NumOfProducts  HasCrCard  \\\n",
       "0          668  33.0       3       0.00              2        1.0   \n",
       "1          627  33.0       1       0.00              2        1.0   \n",
       "2          678  40.0      10       0.00              2        1.0   \n",
       "3          581  34.0       2  148882.54              1        1.0   \n",
       "4          716  33.0       5       0.00              2        1.0   \n",
       "\n",
       "   IsActiveMember  EstimatedSalary  Female  Male  France  Germany  Spain  \n",
       "0             0.0        181449.97     0.0   1.0     1.0      0.0    0.0  \n",
       "1             1.0         49503.50     0.0   1.0     1.0      0.0    0.0  \n",
       "2             0.0        184866.69     0.0   1.0     1.0      0.0    0.0  \n",
       "3             1.0         84560.88     0.0   1.0     1.0      0.0    0.0  \n",
       "4             1.0         15068.83     0.0   1.0     0.0      0.0    1.0  "
      ]
     },
     "execution_count": 7,
     "metadata": {},
     "output_type": "execute_result"
    }
   ],
   "source": [
    "OH_X_drop.head(5)"
   ]
  },
  {
   "cell_type": "code",
   "execution_count": 8,
   "id": "2d39794a",
   "metadata": {
    "execution": {
     "iopub.execute_input": "2024-01-09T06:07:24.404866Z",
     "iopub.status.busy": "2024-01-09T06:07:24.404489Z",
     "iopub.status.idle": "2024-01-09T06:07:24.420185Z",
     "shell.execute_reply": "2024-01-09T06:07:24.418982Z"
    },
    "papermill": {
     "duration": 0.028982,
     "end_time": "2024-01-09T06:07:24.422787",
     "exception": false,
     "start_time": "2024-01-09T06:07:24.393805",
     "status": "completed"
    },
    "tags": []
   },
   "outputs": [
    {
     "name": "stdout",
     "output_type": "stream",
     "text": [
      "<class 'pandas.core.frame.DataFrame'>\n",
      "RangeIndex: 165034 entries, 0 to 165033\n",
      "Data columns (total 13 columns):\n",
      " #   Column           Non-Null Count   Dtype  \n",
      "---  ------           --------------   -----  \n",
      " 0   CreditScore      165034 non-null  int64  \n",
      " 1   Age              165034 non-null  float64\n",
      " 2   Tenure           165034 non-null  int64  \n",
      " 3   Balance          165034 non-null  float64\n",
      " 4   NumOfProducts    165034 non-null  int64  \n",
      " 5   HasCrCard        165034 non-null  float64\n",
      " 6   IsActiveMember   165034 non-null  float64\n",
      " 7   EstimatedSalary  165034 non-null  float64\n",
      " 8   Female           165034 non-null  float64\n",
      " 9   Male             165034 non-null  float64\n",
      " 10  France           165034 non-null  float64\n",
      " 11  Germany          165034 non-null  float64\n",
      " 12  Spain            165034 non-null  float64\n",
      "dtypes: float64(10), int64(3)\n",
      "memory usage: 16.4 MB\n"
     ]
    }
   ],
   "source": [
    "OH_X_drop.info()"
   ]
  },
  {
   "cell_type": "code",
   "execution_count": 9,
   "id": "6244ca24",
   "metadata": {
    "execution": {
     "iopub.execute_input": "2024-01-09T06:07:24.443253Z",
     "iopub.status.busy": "2024-01-09T06:07:24.442803Z",
     "iopub.status.idle": "2024-01-09T06:07:24.547391Z",
     "shell.execute_reply": "2024-01-09T06:07:24.546177Z"
    },
    "papermill": {
     "duration": 0.117963,
     "end_time": "2024-01-09T06:07:24.550077",
     "exception": false,
     "start_time": "2024-01-09T06:07:24.432114",
     "status": "completed"
    },
    "tags": []
   },
   "outputs": [],
   "source": [
    "from sklearn.metrics import confusion_matrix, accuracy_score\n",
    "from sklearn.metrics import precision_score, recall_score\n",
    "from sklearn.metrics import f1_score, roc_auc_score\n",
    "\n",
    "def get_clf_eval(y_test, pred=None, pred_proba=None):\n",
    "    confusion = confusion_matrix(y_test, pred)\n",
    "    accuracy = accuracy_score(y_test,pred)\n",
    "    precision = precision_score(y_test, pred)\n",
    "    recall = recall_score(y_test, pred)\n",
    "    f1 = f1_score(y_test, pred)\n",
    "    roc_auc = roc_auc_score(y_test, pred_proba)\n",
    "    print('정확도: {0: .4f}, 정밀도: {1: .4f}, 재현율: {2: .4f},\\\n",
    "    F1: {3:.4f}, AUC:{4:.4f}'.format(accuracy,precision,recall, f1, roc_auc))"
   ]
  },
  {
   "cell_type": "code",
   "execution_count": 10,
   "id": "7be958b4",
   "metadata": {
    "execution": {
     "iopub.execute_input": "2024-01-09T06:07:24.570685Z",
     "iopub.status.busy": "2024-01-09T06:07:24.570234Z",
     "iopub.status.idle": "2024-01-09T06:07:24.619121Z",
     "shell.execute_reply": "2024-01-09T06:07:24.617994Z"
    },
    "papermill": {
     "duration": 0.062249,
     "end_time": "2024-01-09T06:07:24.621777",
     "exception": false,
     "start_time": "2024-01-09T06:07:24.559528",
     "status": "completed"
    },
    "tags": []
   },
   "outputs": [],
   "source": [
    "from sklearn.model_selection import train_test_split\n",
    "X_train,X_valid,y_train,y_valid = train_test_split(OH_X_drop,y,train_size=0.8,test_size=0.2,\n",
    "                                                  random_state=0)"
   ]
  },
  {
   "cell_type": "code",
   "execution_count": 11,
   "id": "85054fa2",
   "metadata": {
    "execution": {
     "iopub.execute_input": "2024-01-09T06:07:24.643091Z",
     "iopub.status.busy": "2024-01-09T06:07:24.642694Z",
     "iopub.status.idle": "2024-01-09T06:07:26.286860Z",
     "shell.execute_reply": "2024-01-09T06:07:26.285326Z"
    },
    "papermill": {
     "duration": 1.658391,
     "end_time": "2024-01-09T06:07:26.289941",
     "exception": false,
     "start_time": "2024-01-09T06:07:24.631550",
     "status": "completed"
    },
    "tags": []
   },
   "outputs": [
    {
     "name": "stdout",
     "output_type": "stream",
     "text": [
      "정확도:  0.7994, 정밀도:  0.5209, 재현율:  0.5340,    F1: 0.5274, AUC:0.7021\n"
     ]
    }
   ],
   "source": [
    "from sklearn.tree import DecisionTreeClassifier\n",
    "dtc = DecisionTreeClassifier(random_state=7)\n",
    "dtc.fit(X_train,y_train)\n",
    "preds = dtc.predict(X_valid)\n",
    "pred_proba = dtc.predict_proba(X_valid)[:,1]\n",
    "get_clf_eval(y_valid,preds,pred_proba)"
   ]
  },
  {
   "cell_type": "markdown",
   "id": "261d74e1",
   "metadata": {
    "papermill": {
     "duration": 0.009266,
     "end_time": "2024-01-09T06:07:26.309067",
     "exception": false,
     "start_time": "2024-01-09T06:07:26.299801",
     "status": "completed"
    },
    "tags": []
   },
   "source": [
    "-----------------------------------------------------------------"
   ]
  },
  {
   "cell_type": "code",
   "execution_count": 12,
   "id": "e4288b06",
   "metadata": {
    "execution": {
     "iopub.execute_input": "2024-01-09T06:07:26.331306Z",
     "iopub.status.busy": "2024-01-09T06:07:26.330720Z",
     "iopub.status.idle": "2024-01-09T06:07:27.403820Z",
     "shell.execute_reply": "2024-01-09T06:07:27.402592Z"
    },
    "papermill": {
     "duration": 1.088111,
     "end_time": "2024-01-09T06:07:27.407181",
     "exception": false,
     "start_time": "2024-01-09T06:07:26.319070",
     "status": "completed"
    },
    "tags": []
   },
   "outputs": [
    {
     "data": {
      "text/plain": [
       "<Axes: >"
      ]
     },
     "execution_count": 12,
     "metadata": {},
     "output_type": "execute_result"
    },
    {
     "data": {
      "image/png": "[encoded data removed]",
      "text/plain": [
       "<Figure size 800x600 with 2 Axes>"
      ]
     },
     "metadata": {},
     "output_type": "display_data"
    }
   ],
   "source": [
    "import matplotlib.pyplot as plt\n",
    "%matplotlib inline\n",
    "import seaborn as sns\n",
    "\n",
    "corr_data = pd.concat([OH_X_drop,y],axis=1)\n",
    "\n",
    "colormap = plt.cm.PuBu\n",
    "f, ax = plt.subplots(figsize = (8,6))\n",
    "sns.heatmap(corr_data.corr(),square = True, linewidths = 0.1,\n",
    "           cmap = colormap, linecolor = \"white\", vmax=0.8)"
   ]
  },
  {
   "cell_type": "code",
   "execution_count": 13,
   "id": "e8a31af7",
   "metadata": {
    "execution": {
     "iopub.execute_input": "2024-01-09T06:07:27.430735Z",
     "iopub.status.busy": "2024-01-09T06:07:27.430344Z",
     "iopub.status.idle": "2024-01-09T06:07:28.750326Z",
     "shell.execute_reply": "2024-01-09T06:07:28.749249Z"
    },
    "papermill": {
     "duration": 1.335275,
     "end_time": "2024-01-09T06:07:28.753343",
     "exception": false,
     "start_time": "2024-01-09T06:07:27.418068",
     "status": "completed"
    },
    "tags": []
   },
   "outputs": [
    {
     "data": {
      "text/plain": [
       "<seaborn.axisgrid.FacetGrid at 0x7b706d9183a0>"
      ]
     },
     "execution_count": 13,
     "metadata": {},
     "output_type": "execute_result"
    },
    {
     "data": {
      "image/png": "[encoded data removed]",
      "text/plain": [
       "<Figure size 500x500 with 1 Axes>"
      ]
     },
     "metadata": {},
     "output_type": "display_data"
    }
   ],
   "source": [
    "sns.displot(data = OH_X_drop,x='Balance',kind='kde')"
   ]
  },
  {
   "cell_type": "code",
   "execution_count": 14,
   "id": "e8f7cabe",
   "metadata": {
    "execution": {
     "iopub.execute_input": "2024-01-09T06:07:28.778180Z",
     "iopub.status.busy": "2024-01-09T06:07:28.777553Z",
     "iopub.status.idle": "2024-01-09T06:07:29.874374Z",
     "shell.execute_reply": "2024-01-09T06:07:29.873034Z"
    },
    "papermill": {
     "duration": 1.112071,
     "end_time": "2024-01-09T06:07:29.876841",
     "exception": false,
     "start_time": "2024-01-09T06:07:28.764770",
     "status": "completed"
    },
    "tags": []
   },
   "outputs": [
    {
     "data": {
      "text/plain": [
       "<seaborn.axisgrid.FacetGrid at 0x7b706d8bd360>"
      ]
     },
     "execution_count": 14,
     "metadata": {},
     "output_type": "execute_result"
    },
    {
     "data": {
      "image/png": "[encoded data removed]",
      "text/plain": [
       "<Figure size 500x500 with 1 Axes>"
      ]
     },
     "metadata": {},
     "output_type": "display_data"
    }
   ],
   "source": [
    "sns.displot(data = OH_X_drop,x='EstimatedSalary',kind='kde')"
   ]
  },
  {
   "cell_type": "code",
   "execution_count": 15,
   "id": "78f8b0b7",
   "metadata": {
    "execution": {
     "iopub.execute_input": "2024-01-09T06:07:29.904365Z",
     "iopub.status.busy": "2024-01-09T06:07:29.903930Z",
     "iopub.status.idle": "2024-01-09T06:07:29.922659Z",
     "shell.execute_reply": "2024-01-09T06:07:29.921448Z"
    },
    "papermill": {
     "duration": 0.035132,
     "end_time": "2024-01-09T06:07:29.925407",
     "exception": false,
     "start_time": "2024-01-09T06:07:29.890275",
     "status": "completed"
    },
    "tags": []
   },
   "outputs": [
    {
     "data": {
      "text/plain": [
       "array([-0.30901873])"
      ]
     },
     "execution_count": 15,
     "metadata": {},
     "output_type": "execute_result"
    }
   ],
   "source": [
    "from scipy.stats import skew\n",
    "skew(OH_X_drop[['EstimatedSalary']])"
   ]
  },
  {
   "cell_type": "markdown",
   "id": "1f80863a",
   "metadata": {
    "papermill": {
     "duration": 0.011849,
     "end_time": "2024-01-09T06:07:29.949862",
     "exception": false,
     "start_time": "2024-01-09T06:07:29.938013",
     "status": "completed"
    },
    "tags": []
   },
   "source": [
    "----------------------------------------------------\n",
    "# Parameter tuning"
   ]
  },
  {
   "cell_type": "code",
   "execution_count": 16,
   "id": "8e6d6626",
   "metadata": {
    "execution": {
     "iopub.execute_input": "2024-01-09T06:07:29.976481Z",
     "iopub.status.busy": "2024-01-09T06:07:29.976086Z",
     "iopub.status.idle": "2024-01-09T06:08:11.271750Z",
     "shell.execute_reply": "2024-01-09T06:08:11.269862Z"
    },
    "papermill": {
     "duration": 41.323989,
     "end_time": "2024-01-09T06:08:11.286157",
     "exception": false,
     "start_time": "2024-01-09T06:07:29.962168",
     "status": "completed"
    },
    "tags": []
   },
   "outputs": [
    {
     "name": "stdout",
     "output_type": "stream",
     "text": [
      "최적의 하이퍼파라미터: {'criterion': 'gini', 'max_depth': 5, 'min_samples_leaf': 1, 'min_samples_split': 7}\n"
     ]
    }
   ],
   "source": [
    "from sklearn.model_selection import RandomizedSearchCV\n",
    "from scipy.stats import randint\n",
    "from sklearn.tree import DecisionTreeClassifier\n",
    "\n",
    "# 의사 결정 트리 모델 생성\n",
    "model = DecisionTreeClassifier(random_state=7)\n",
    "\n",
    "# 탐색할 하이퍼파라미터의 분포 지정\n",
    "param_dist = {\n",
    "    'criterion': ['gini', 'entropy'],\n",
    "    'max_depth': randint(1, 30),\n",
    "    'min_samples_split': randint(2, 10),\n",
    "    'min_samples_leaf': randint(1, 4)\n",
    "}\n",
    "\n",
    "# Random Search 수행\n",
    "random_search = RandomizedSearchCV(model, param_distributions=param_dist, n_iter=10, cv=5)\n",
    "random_search.fit(X_train, y_train)\n",
    "\n",
    "# 최적의 하이퍼파라미터 출력\n",
    "print(\"최적의 하이퍼파라미터:\", random_search.best_params_)"
   ]
  },
  {
   "cell_type": "code",
   "execution_count": 17,
   "id": "39616d29",
   "metadata": {
    "execution": {
     "iopub.execute_input": "2024-01-09T06:08:11.313290Z",
     "iopub.status.busy": "2024-01-09T06:08:11.312838Z",
     "iopub.status.idle": "2024-01-09T06:08:11.828045Z",
     "shell.execute_reply": "2024-01-09T06:08:11.826512Z"
    },
    "papermill": {
     "duration": 0.531541,
     "end_time": "2024-01-09T06:08:11.830425",
     "exception": false,
     "start_time": "2024-01-09T06:08:11.298884",
     "status": "completed"
    },
    "tags": []
   },
   "outputs": [
    {
     "name": "stdout",
     "output_type": "stream",
     "text": [
      "정확도:  0.8575, 정밀도:  0.7254, 재현율:  0.5154,    F1: 0.6026, AUC:0.8717\n"
     ]
    }
   ],
   "source": [
    "best_model = DecisionTreeClassifier(random_state=7,**random_search.best_params_)\n",
    "best_model.fit(X_train,y_train)\n",
    "preds = best_model.predict(X_valid)\n",
    "pred_proba = best_model.predict_proba(X_valid)[:,1]\n",
    "get_clf_eval(y_valid,preds,pred_proba)"
   ]
  },
  {
   "cell_type": "markdown",
   "id": "b582b61c",
   "metadata": {
    "papermill": {
     "duration": 0.012403,
     "end_time": "2024-01-09T06:08:11.855587",
     "exception": false,
     "start_time": "2024-01-09T06:08:11.843184",
     "status": "completed"
    },
    "tags": []
   },
   "source": [
    "------------------------------------------------------------------\n",
    "# Submit"
   ]
  },
  {
   "cell_type": "code",
   "execution_count": 18,
   "id": "d688eca0",
   "metadata": {
    "execution": {
     "iopub.execute_input": "2024-01-09T06:08:11.882512Z",
     "iopub.status.busy": "2024-01-09T06:08:11.881466Z",
     "iopub.status.idle": "2024-01-09T06:08:12.166809Z",
     "shell.execute_reply": "2024-01-09T06:08:12.165632Z"
    },
    "papermill": {
     "duration": 0.301719,
     "end_time": "2024-01-09T06:08:12.169505",
     "exception": false,
     "start_time": "2024-01-09T06:08:11.867786",
     "status": "completed"
    },
    "tags": []
   },
   "outputs": [],
   "source": [
    "testData_original = pd.read_csv('/kaggle/input/playground-series-s4e1/test.csv')\n",
    "testData = testData_original.drop(['id','CustomerId','Surname'],axis=1)"
   ]
  },
  {
   "cell_type": "code",
   "execution_count": 19,
   "id": "bb8282c6",
   "metadata": {
    "execution": {
     "iopub.execute_input": "2024-01-09T06:08:12.197356Z",
     "iopub.status.busy": "2024-01-09T06:08:12.196597Z",
     "iopub.status.idle": "2024-01-09T06:08:12.288794Z",
     "shell.execute_reply": "2024-01-09T06:08:12.287373Z"
    },
    "papermill": {
     "duration": 0.109637,
     "end_time": "2024-01-09T06:08:12.291758",
     "exception": false,
     "start_time": "2024-01-09T06:08:12.182121",
     "status": "completed"
    },
    "tags": []
   },
   "outputs": [],
   "source": [
    "ohe_Gender = oh_G.transform(testData[['Gender']])\n",
    "ohe_Gender_pd = pd.DataFrame(ohe_Gender, columns=[str(oh_G.categories_[0][i]) for i in range (len(oh_G.categories_[0]))])\n",
    "\n",
    "ohe_Geography = oh_Gp.transform(testData[['Geography']])\n",
    "ohe_Geography_pd = pd.DataFrame(ohe_Geography, columns=[str(oh_Gp.categories_[0][i]) for i in range (len(oh_Gp.categories_[0]))])\n",
    "\n",
    "testData = pd.concat([testData,ohe_Gender_pd,ohe_Geography_pd],axis=1)\n",
    "testData.drop(['Gender','Geography'],axis=1,inplace=True)"
   ]
  },
  {
   "cell_type": "code",
   "execution_count": 20,
   "id": "1401b19a",
   "metadata": {
    "execution": {
     "iopub.execute_input": "2024-01-09T06:08:12.318315Z",
     "iopub.status.busy": "2024-01-09T06:08:12.317823Z",
     "iopub.status.idle": "2024-01-09T06:08:12.354400Z",
     "shell.execute_reply": "2024-01-09T06:08:12.353091Z"
    },
    "papermill": {
     "duration": 0.053029,
     "end_time": "2024-01-09T06:08:12.357152",
     "exception": false,
     "start_time": "2024-01-09T06:08:12.304123",
     "status": "completed"
    },
    "tags": []
   },
   "outputs": [
    {
     "name": "stdout",
     "output_type": "stream",
     "text": [
      "       id  Exited\n",
      "0  165034       0\n",
      "1  165035       1\n",
      "2  165036       0\n",
      "3  165037       0\n",
      "4  165038       0\n"
     ]
    }
   ],
   "source": [
    "test_preds = best_model.predict(testData)\n",
    "answer_df = pd.DataFrame(testData_original['id'],columns=['id'])\n",
    "answer_df['Exited'] = test_preds\n",
    "print(answer_df.head(5))"
   ]
  },
  {
   "cell_type": "code",
   "execution_count": 21,
   "id": "d16b6b43",
   "metadata": {
    "execution": {
     "iopub.execute_input": "2024-01-09T06:08:12.383712Z",
     "iopub.status.busy": "2024-01-09T06:08:12.383268Z",
     "iopub.status.idle": "2024-01-09T06:08:12.644372Z",
     "shell.execute_reply": "2024-01-09T06:08:12.643195Z"
    },
    "papermill": {
     "duration": 0.278096,
     "end_time": "2024-01-09T06:08:12.647551",
     "exception": false,
     "start_time": "2024-01-09T06:08:12.369455",
     "status": "completed"
    },
    "tags": []
   },
   "outputs": [],
   "source": [
    "answer_df.to_csv('/kaggle/working/answer.csv',index=False)"
   ]
  }
 ],
 "metadata": {
  "kaggle": {
   "accelerator": "none",
   "dataSources": [
    {
     "databundleVersionId": 7405009,
     "sourceId": 65711,
     "sourceType": "competition"
    }
   ],
   "dockerImageVersionId": 30626,
   "isGpuEnabled": false,
   "isInternetEnabled": true,
   "language": "python",
   "sourceType": "notebook"
  },
  "kernelspec": {
   "display_name": "Python 3",
   "language": "python",
   "name": "python3"
  },
  "language_info": {
   "codemirror_mode": {
    "name": "ipython",
    "version": 3
   },
   "file_extension": ".py",
   "mimetype": "text/x-python",
   "name": "python",
   "nbconvert_exporter": "python",
   "pygments_lexer": "ipython3",
   "version": "3.10.12"
  },
  "papermill": {
   "default_parameters": {},
   "duration": 55.261178,
   "end_time": "2024-01-09T06:08:13.383332",
   "environment_variables": {},
   "exception": null,
   "input_path": "__notebook__.ipynb",
   "output_path": "__notebook__.ipynb",
   "parameters": {},
   "start_time": "2024-01-09T06:07:18.122154",
   "version": "2.4.0"
  }
 },
 "nbformat": 4,
 "nbformat_minor": 5
}
