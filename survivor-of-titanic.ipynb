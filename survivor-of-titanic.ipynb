{
 "cells": [
  {
   "cell_type": "code",
   "execution_count": 1,
   "id": "97c061c5",
   "metadata": {
    "_cell_guid": "b1076dfc-b9ad-4769-8c92-a6c4dae69d19",
    "_uuid": "8f2839f25d086af736a60e9eeb907d3b93b6e0e5",
    "execution": {
     "iopub.execute_input": "2023-03-13T05:28:01.870040Z",
     "iopub.status.busy": "2023-03-13T05:28:01.869136Z",
     "iopub.status.idle": "2023-03-13T05:28:01.888463Z",
     "shell.execute_reply": "2023-03-13T05:28:01.886495Z"
    },
    "papermill": {
     "duration": 0.030732,
     "end_time": "2023-03-13T05:28:01.891204",
     "exception": false,
     "start_time": "2023-03-13T05:28:01.860472",
     "status": "completed"
    },
    "tags": []
   },
   "outputs": [
    {
     "name": "stdout",
     "output_type": "stream",
     "text": [
      "/kaggle/input/titanic/train.csv\n",
      "/kaggle/input/titanic/test.csv\n",
      "/kaggle/input/titanic/gender_submission.csv\n"
     ]
    }
   ],
   "source": [
    "# This Python 3 environment comes with many helpful analytics libraries installed\n",
    "# It is defined by the kaggle/python Docker image: https://github.com/kaggle/docker-python\n",
    "# For example, here's several helpful packages to load\n",
    "\n",
    "import numpy as np # linear algebra\n",
    "import pandas as pd # data processing, CSV file I/O (e.g. pd.read_csv)\n",
    "\n",
    "# Input data files are available in the read-only \"../input/\" directory\n",
    "# For example, running this (by clicking run or pressing Shift+Enter) will list all files under the input directory\n",
    "\n",
    "import os\n",
    "for dirname, _, filenames in os.walk('/kaggle/input'):\n",
    "    for filename in filenames:\n",
    "        print(os.path.join(dirname, filename))\n",
    "\n",
    "# You can write up to 20GB to the current directory (/kaggle/working/) that gets preserved as output when you create a version using \"Save & Run All\" \n",
    "# You can also write temporary files to /kaggle/temp/, but they won't be saved outside of the current session"
   ]
  },
  {
   "cell_type": "code",
   "execution_count": 2,
   "id": "33fcd1ca",
   "metadata": {
    "execution": {
     "iopub.execute_input": "2023-03-13T05:28:01.905343Z",
     "iopub.status.busy": "2023-03-13T05:28:01.904371Z",
     "iopub.status.idle": "2023-03-13T05:28:03.086222Z",
     "shell.execute_reply": "2023-03-13T05:28:03.085029Z"
    },
    "papermill": {
     "duration": 1.191412,
     "end_time": "2023-03-13T05:28:03.088932",
     "exception": false,
     "start_time": "2023-03-13T05:28:01.897520",
     "status": "completed"
    },
    "tags": []
   },
   "outputs": [
    {
     "data": {
      "text/html": [
       "<div>\n",
       "<style scoped>\n",
       "    .dataframe tbody tr th:only-of-type {\n",
       "        vertical-align: middle;\n",
       "    }\n",
       "\n",
       "    .dataframe tbody tr th {\n",
       "        vertical-align: top;\n",
       "    }\n",
       "\n",
       "    .dataframe thead th {\n",
       "        text-align: right;\n",
       "    }\n",
       "</style>\n",
       "<table border=\"1\" class=\"dataframe\">\n",
       "  <thead>\n",
       "    <tr style=\"text-align: right;\">\n",
       "      <th></th>\n",
       "      <th>PassengerId</th>\n",
       "      <th>Survived</th>\n",
       "      <th>Pclass</th>\n",
       "      <th>Name</th>\n",
       "      <th>Sex</th>\n",
       "      <th>Age</th>\n",
       "      <th>SibSp</th>\n",
       "      <th>Parch</th>\n",
       "      <th>Ticket</th>\n",
       "      <th>Fare</th>\n",
       "      <th>Cabin</th>\n",
       "      <th>Embarked</th>\n",
       "    </tr>\n",
       "  </thead>\n",
       "  <tbody>\n",
       "    <tr>\n",
       "      <th>0</th>\n",
       "      <td>1</td>\n",
       "      <td>0</td>\n",
       "      <td>3</td>\n",
       "      <td>Braund, Mr. Owen Harris</td>\n",
       "      <td>male</td>\n",
       "      <td>22.0</td>\n",
       "      <td>1</td>\n",
       "      <td>0</td>\n",
       "      <td>A/5 21171</td>\n",
       "      <td>7.2500</td>\n",
       "      <td>NaN</td>\n",
       "      <td>S</td>\n",
       "    </tr>\n",
       "    <tr>\n",
       "      <th>1</th>\n",
       "      <td>2</td>\n",
       "      <td>1</td>\n",
       "      <td>1</td>\n",
       "      <td>Cumings, Mrs. John Bradley (Florence Briggs Th...</td>\n",
       "      <td>female</td>\n",
       "      <td>38.0</td>\n",
       "      <td>1</td>\n",
       "      <td>0</td>\n",
       "      <td>PC 17599</td>\n",
       "      <td>71.2833</td>\n",
       "      <td>C85</td>\n",
       "      <td>C</td>\n",
       "    </tr>\n",
       "    <tr>\n",
       "      <th>2</th>\n",
       "      <td>3</td>\n",
       "      <td>1</td>\n",
       "      <td>3</td>\n",
       "      <td>Heikkinen, Miss. Laina</td>\n",
       "      <td>female</td>\n",
       "      <td>26.0</td>\n",
       "      <td>0</td>\n",
       "      <td>0</td>\n",
       "      <td>STON/O2. 3101282</td>\n",
       "      <td>7.9250</td>\n",
       "      <td>NaN</td>\n",
       "      <td>S</td>\n",
       "    </tr>\n",
       "    <tr>\n",
       "      <th>3</th>\n",
       "      <td>4</td>\n",
       "      <td>1</td>\n",
       "      <td>1</td>\n",
       "      <td>Futrelle, Mrs. Jacques Heath (Lily May Peel)</td>\n",
       "      <td>female</td>\n",
       "      <td>35.0</td>\n",
       "      <td>1</td>\n",
       "      <td>0</td>\n",
       "      <td>113803</td>\n",
       "      <td>53.1000</td>\n",
       "      <td>C123</td>\n",
       "      <td>S</td>\n",
       "    </tr>\n",
       "    <tr>\n",
       "      <th>4</th>\n",
       "      <td>5</td>\n",
       "      <td>0</td>\n",
       "      <td>3</td>\n",
       "      <td>Allen, Mr. William Henry</td>\n",
       "      <td>male</td>\n",
       "      <td>35.0</td>\n",
       "      <td>0</td>\n",
       "      <td>0</td>\n",
       "      <td>373450</td>\n",
       "      <td>8.0500</td>\n",
       "      <td>NaN</td>\n",
       "      <td>S</td>\n",
       "    </tr>\n",
       "  </tbody>\n",
       "</table>\n",
       "</div>"
      ],
      "text/plain": [
       "   PassengerId  Survived  Pclass  \\\n",
       "0            1         0       3   \n",
       "1            2         1       1   \n",
       "2            3         1       3   \n",
       "3            4         1       1   \n",
       "4            5         0       3   \n",
       "\n",
       "                                                Name     Sex   Age  SibSp  \\\n",
       "0                            Braund, Mr. Owen Harris    male  22.0      1   \n",
       "1  Cumings, Mrs. John Bradley (Florence Briggs Th...  female  38.0      1   \n",
       "2                             Heikkinen, Miss. Laina  female  26.0      0   \n",
       "3       Futrelle, Mrs. Jacques Heath (Lily May Peel)  female  35.0      1   \n",
       "4                           Allen, Mr. William Henry    male  35.0      0   \n",
       "\n",
       "   Parch            Ticket     Fare Cabin Embarked  \n",
       "0      0         A/5 21171   7.2500   NaN        S  \n",
       "1      0          PC 17599  71.2833   C85        C  \n",
       "2      0  STON/O2. 3101282   7.9250   NaN        S  \n",
       "3      0            113803  53.1000  C123        S  \n",
       "4      0            373450   8.0500   NaN        S  "
      ]
     },
     "execution_count": 2,
     "metadata": {},
     "output_type": "execute_result"
    }
   ],
   "source": [
    "import matplotlib.pyplot as plt\n",
    "import seaborn as sns\n",
    "%matplotlib inline\n",
    "\n",
    "titanic_df = pd.read_csv('/kaggle/input/titanic/train.csv')\n",
    "titanic_df.head(5)"
   ]
  },
  {
   "cell_type": "code",
   "execution_count": 3,
   "id": "8a4e29b9",
   "metadata": {
    "execution": {
     "iopub.execute_input": "2023-03-13T05:28:03.102866Z",
     "iopub.status.busy": "2023-03-13T05:28:03.101675Z",
     "iopub.status.idle": "2023-03-13T05:28:03.127314Z",
     "shell.execute_reply": "2023-03-13T05:28:03.126278Z"
    },
    "papermill": {
     "duration": 0.036451,
     "end_time": "2023-03-13T05:28:03.131222",
     "exception": false,
     "start_time": "2023-03-13T05:28:03.094771",
     "status": "completed"
    },
    "tags": []
   },
   "outputs": [
    {
     "name": "stdout",
     "output_type": "stream",
     "text": [
      "<class 'pandas.core.frame.DataFrame'>\n",
      "RangeIndex: 891 entries, 0 to 890\n",
      "Data columns (total 12 columns):\n",
      " #   Column       Non-Null Count  Dtype  \n",
      "---  ------       --------------  -----  \n",
      " 0   PassengerId  891 non-null    int64  \n",
      " 1   Survived     891 non-null    int64  \n",
      " 2   Pclass       891 non-null    int64  \n",
      " 3   Name         891 non-null    object \n",
      " 4   Sex          891 non-null    object \n",
      " 5   Age          714 non-null    float64\n",
      " 6   SibSp        891 non-null    int64  \n",
      " 7   Parch        891 non-null    int64  \n",
      " 8   Ticket       891 non-null    object \n",
      " 9   Fare         891 non-null    float64\n",
      " 10  Cabin        204 non-null    object \n",
      " 11  Embarked     889 non-null    object \n",
      "dtypes: float64(2), int64(5), object(5)\n",
      "memory usage: 83.7+ KB\n",
      "None\n"
     ]
    }
   ],
   "source": [
    "print(titanic_df.info())"
   ]
  },
  {
   "cell_type": "code",
   "execution_count": 4,
   "id": "37a42d49",
   "metadata": {
    "execution": {
     "iopub.execute_input": "2023-03-13T05:28:03.146019Z",
     "iopub.status.busy": "2023-03-13T05:28:03.144731Z",
     "iopub.status.idle": "2023-03-13T05:28:03.156621Z",
     "shell.execute_reply": "2023-03-13T05:28:03.155173Z"
    },
    "papermill": {
     "duration": 0.021342,
     "end_time": "2023-03-13T05:28:03.158917",
     "exception": false,
     "start_time": "2023-03-13T05:28:03.137575",
     "status": "completed"
    },
    "tags": []
   },
   "outputs": [
    {
     "name": "stdout",
     "output_type": "stream",
     "text": [
      "Sum null =  0\n"
     ]
    }
   ],
   "source": [
    "titanic_df['Age'].fillna(titanic_df['Age'].mean(),inplace=True)\n",
    "titanic_df['Cabin'].fillna('N',inplace=True)\n",
    "titanic_df['Embarked'].fillna('N',inplace=True)\n",
    "print('Sum null = ', titanic_df.isnull().sum().sum())"
   ]
  },
  {
   "cell_type": "code",
   "execution_count": 5,
   "id": "048b3241",
   "metadata": {
    "execution": {
     "iopub.execute_input": "2023-03-13T05:28:03.172762Z",
     "iopub.status.busy": "2023-03-13T05:28:03.172294Z",
     "iopub.status.idle": "2023-03-13T05:28:03.351708Z",
     "shell.execute_reply": "2023-03-13T05:28:03.350469Z"
    },
    "papermill": {
     "duration": 0.189282,
     "end_time": "2023-03-13T05:28:03.354127",
     "exception": false,
     "start_time": "2023-03-13T05:28:03.164845",
     "status": "completed"
    },
    "tags": []
   },
   "outputs": [
    {
     "data": {
      "text/html": [
       "<div>\n",
       "<style scoped>\n",
       "    .dataframe tbody tr th:only-of-type {\n",
       "        vertical-align: middle;\n",
       "    }\n",
       "\n",
       "    .dataframe tbody tr th {\n",
       "        vertical-align: top;\n",
       "    }\n",
       "\n",
       "    .dataframe thead th {\n",
       "        text-align: right;\n",
       "    }\n",
       "</style>\n",
       "<table border=\"1\" class=\"dataframe\">\n",
       "  <thead>\n",
       "    <tr style=\"text-align: right;\">\n",
       "      <th></th>\n",
       "      <th>PassengerId</th>\n",
       "      <th>Survived</th>\n",
       "      <th>Pclass</th>\n",
       "      <th>Name</th>\n",
       "      <th>Sex</th>\n",
       "      <th>Age</th>\n",
       "      <th>SibSp</th>\n",
       "      <th>Parch</th>\n",
       "      <th>Ticket</th>\n",
       "      <th>Fare</th>\n",
       "      <th>Cabin</th>\n",
       "      <th>Embarked</th>\n",
       "    </tr>\n",
       "  </thead>\n",
       "  <tbody>\n",
       "    <tr>\n",
       "      <th>0</th>\n",
       "      <td>1</td>\n",
       "      <td>0</td>\n",
       "      <td>3</td>\n",
       "      <td>Braund, Mr. Owen Harris</td>\n",
       "      <td>1</td>\n",
       "      <td>22.0</td>\n",
       "      <td>1</td>\n",
       "      <td>0</td>\n",
       "      <td>A/5 21171</td>\n",
       "      <td>7.2500</td>\n",
       "      <td>146</td>\n",
       "      <td>3</td>\n",
       "    </tr>\n",
       "    <tr>\n",
       "      <th>1</th>\n",
       "      <td>2</td>\n",
       "      <td>1</td>\n",
       "      <td>1</td>\n",
       "      <td>Cumings, Mrs. John Bradley (Florence Briggs Th...</td>\n",
       "      <td>0</td>\n",
       "      <td>38.0</td>\n",
       "      <td>1</td>\n",
       "      <td>0</td>\n",
       "      <td>PC 17599</td>\n",
       "      <td>71.2833</td>\n",
       "      <td>81</td>\n",
       "      <td>0</td>\n",
       "    </tr>\n",
       "    <tr>\n",
       "      <th>2</th>\n",
       "      <td>3</td>\n",
       "      <td>1</td>\n",
       "      <td>3</td>\n",
       "      <td>Heikkinen, Miss. Laina</td>\n",
       "      <td>0</td>\n",
       "      <td>26.0</td>\n",
       "      <td>0</td>\n",
       "      <td>0</td>\n",
       "      <td>STON/O2. 3101282</td>\n",
       "      <td>7.9250</td>\n",
       "      <td>146</td>\n",
       "      <td>3</td>\n",
       "    </tr>\n",
       "    <tr>\n",
       "      <th>3</th>\n",
       "      <td>4</td>\n",
       "      <td>1</td>\n",
       "      <td>1</td>\n",
       "      <td>Futrelle, Mrs. Jacques Heath (Lily May Peel)</td>\n",
       "      <td>0</td>\n",
       "      <td>35.0</td>\n",
       "      <td>1</td>\n",
       "      <td>0</td>\n",
       "      <td>113803</td>\n",
       "      <td>53.1000</td>\n",
       "      <td>55</td>\n",
       "      <td>3</td>\n",
       "    </tr>\n",
       "    <tr>\n",
       "      <th>4</th>\n",
       "      <td>5</td>\n",
       "      <td>0</td>\n",
       "      <td>3</td>\n",
       "      <td>Allen, Mr. William Henry</td>\n",
       "      <td>1</td>\n",
       "      <td>35.0</td>\n",
       "      <td>0</td>\n",
       "      <td>0</td>\n",
       "      <td>373450</td>\n",
       "      <td>8.0500</td>\n",
       "      <td>146</td>\n",
       "      <td>3</td>\n",
       "    </tr>\n",
       "  </tbody>\n",
       "</table>\n",
       "</div>"
      ],
      "text/plain": [
       "   PassengerId  Survived  Pclass  \\\n",
       "0            1         0       3   \n",
       "1            2         1       1   \n",
       "2            3         1       3   \n",
       "3            4         1       1   \n",
       "4            5         0       3   \n",
       "\n",
       "                                                Name  Sex   Age  SibSp  Parch  \\\n",
       "0                            Braund, Mr. Owen Harris    1  22.0      1      0   \n",
       "1  Cumings, Mrs. John Bradley (Florence Briggs Th...    0  38.0      1      0   \n",
       "2                             Heikkinen, Miss. Laina    0  26.0      0      0   \n",
       "3       Futrelle, Mrs. Jacques Heath (Lily May Peel)    0  35.0      1      0   \n",
       "4                           Allen, Mr. William Henry    1  35.0      0      0   \n",
       "\n",
       "             Ticket     Fare  Cabin  Embarked  \n",
       "0         A/5 21171   7.2500    146         3  \n",
       "1          PC 17599  71.2833     81         0  \n",
       "2  STON/O2. 3101282   7.9250    146         3  \n",
       "3            113803  53.1000     55         3  \n",
       "4            373450   8.0500    146         3  "
      ]
     },
     "execution_count": 5,
     "metadata": {},
     "output_type": "execute_result"
    }
   ],
   "source": [
    "from sklearn import preprocessing\n",
    "\n",
    "def encode_features(dataDF):\n",
    "    features = ['Cabin', 'Sex', 'Embarked']\n",
    "    for feature in features:\n",
    "        le = preprocessing.LabelEncoder()\n",
    "        le = le.fit(dataDF[feature])\n",
    "        dataDF[feature] = le.transform(dataDF[feature])\n",
    "        \n",
    "    return dataDF\n",
    "\n",
    "titanic_df = encode_features(titanic_df)\n",
    "titanic_df.head(5)"
   ]
  },
  {
   "cell_type": "code",
   "execution_count": 6,
   "id": "4f3d2d39",
   "metadata": {
    "execution": {
     "iopub.execute_input": "2023-03-13T05:28:03.368748Z",
     "iopub.status.busy": "2023-03-13T05:28:03.367569Z",
     "iopub.status.idle": "2023-03-13T05:28:03.378053Z",
     "shell.execute_reply": "2023-03-13T05:28:03.376922Z"
    },
    "papermill": {
     "duration": 0.020336,
     "end_time": "2023-03-13T05:28:03.380549",
     "exception": false,
     "start_time": "2023-03-13T05:28:03.360213",
     "status": "completed"
    },
    "tags": []
   },
   "outputs": [],
   "source": [
    "from sklearn.preprocessing import LabelEncoder\n",
    "\n",
    "def fillna(df):\n",
    "    df['Age'].fillna(df['Age'].mean(),inplace=True)\n",
    "    df['Cabin'].fillna('N',inplace=True)\n",
    "    df['Embarked'].fillna('N',inplace=True)\n",
    "    df['Fare'].fillna(0,inplace=True)\n",
    "    return df\n",
    "\n",
    "def drop_features(df):\n",
    "    df.drop(['PassengerId', 'Name', 'Ticket'],axis=1,inplace=True)\n",
    "    return df\n",
    "\n",
    "def format_features(df):\n",
    "    df['Cabin'] = df['Cabin'].str[:1]\n",
    "    features = ['Cabin', 'Sex', 'Embarked']\n",
    "    for feature in features:\n",
    "        le = LabelEncoder()\n",
    "        le = le.fit(df[feature])\n",
    "        df[feature] = le.transform(df[feature])\n",
    "    return df\n",
    "\n",
    "def transform_features(df):\n",
    "    df = fillna(df)\n",
    "    df = drop_features(df)\n",
    "    df = format_features(df)\n",
    "    return df"
   ]
  },
  {
   "cell_type": "code",
   "execution_count": 7,
   "id": "f4a00e2c",
   "metadata": {
    "execution": {
     "iopub.execute_input": "2023-03-13T05:28:03.394500Z",
     "iopub.status.busy": "2023-03-13T05:28:03.393889Z",
     "iopub.status.idle": "2023-03-13T05:28:03.411924Z",
     "shell.execute_reply": "2023-03-13T05:28:03.411017Z"
    },
    "papermill": {
     "duration": 0.027869,
     "end_time": "2023-03-13T05:28:03.414557",
     "exception": false,
     "start_time": "2023-03-13T05:28:03.386688",
     "status": "completed"
    },
    "tags": []
   },
   "outputs": [],
   "source": [
    "titanic_df = pd.read_csv('/kaggle/input/titanic/train.csv')\n",
    "y_titanic_df = titanic_df['Survived']\n",
    "X_titanic_df = titanic_df.drop('Survived',axis=1)\n",
    "X_titanic_df = transform_features(X_titanic_df)"
   ]
  },
  {
   "cell_type": "code",
   "execution_count": 8,
   "id": "7625a3f1",
   "metadata": {
    "execution": {
     "iopub.execute_input": "2023-03-13T05:28:03.428551Z",
     "iopub.status.busy": "2023-03-13T05:28:03.427859Z",
     "iopub.status.idle": "2023-03-13T05:28:03.486815Z",
     "shell.execute_reply": "2023-03-13T05:28:03.485852Z"
    },
    "papermill": {
     "duration": 0.068957,
     "end_time": "2023-03-13T05:28:03.489482",
     "exception": false,
     "start_time": "2023-03-13T05:28:03.420525",
     "status": "completed"
    },
    "tags": []
   },
   "outputs": [],
   "source": [
    "from sklearn.metrics import confusion_matrix, accuracy_score\n",
    "from sklearn.metrics import precision_score, recall_score\n",
    "from sklearn.metrics import f1_score, roc_auc_score\n",
    "\n",
    "def get_clf_eval(y_test, pred=None, pred_proba=None):\n",
    "    confusion = confusion_matrix(y_test, pred)\n",
    "    accuracy = accuracy_score(y_test,pred)\n",
    "    precision = precision_score(y_test, pred)\n",
    "    recall = recall_score(y_test, pred)\n",
    "    f1 = f1_score(y_test, pred)\n",
    "    roc_auc = roc_auc_score(y_test, pred_proba)\n",
    "    print('정확도: {0: .4f}, 정밀도: {1: .4f}, 재현율: {2: .4f},\\\n",
    "    F1: {3:.4f}, AUC:{4:.4f}'.format(accuracy,precision,recall, f1, roc_auc))"
   ]
  },
  {
   "cell_type": "code",
   "execution_count": 9,
   "id": "ffd35527",
   "metadata": {
    "execution": {
     "iopub.execute_input": "2023-03-13T05:28:03.503919Z",
     "iopub.status.busy": "2023-03-13T05:28:03.502979Z",
     "iopub.status.idle": "2023-03-13T05:28:03.966577Z",
     "shell.execute_reply": "2023-03-13T05:28:03.965655Z"
    },
    "papermill": {
     "duration": 0.473539,
     "end_time": "2023-03-13T05:28:03.969321",
     "exception": false,
     "start_time": "2023-03-13T05:28:03.495782",
     "status": "completed"
    },
    "tags": []
   },
   "outputs": [],
   "source": [
    "import xgboost as xgb\n",
    "from xgboost import plot_importance\n",
    "from xgboost import XGBClassifier\n",
    "from sklearn.model_selection import train_test_split\n",
    "from sklearn.ensemble import RandomForestClassifier\n",
    "from sklearn.ensemble import GradientBoostingClassifier\n",
    "from sklearn.linear_model import LogisticRegression\n",
    "from sklearn.linear_model import SGDClassifier\n",
    "from sklearn.svm import SVC\n",
    "\n",
    "import warnings\n",
    "warnings.filterwarnings('ignore')\n",
    "\n",
    "X_train, X_test, y_train, y_test = train_test_split(X_titanic_df, y_titanic_df, test_size = 0.2, random_state = 11)"
   ]
  },
  {
   "cell_type": "code",
   "execution_count": 10,
   "id": "25a575e0",
   "metadata": {
    "execution": {
     "iopub.execute_input": "2023-03-13T05:28:03.982840Z",
     "iopub.status.busy": "2023-03-13T05:28:03.982196Z",
     "iopub.status.idle": "2023-03-13T05:28:04.670618Z",
     "shell.execute_reply": "2023-03-13T05:28:04.669514Z"
    },
    "papermill": {
     "duration": 0.697756,
     "end_time": "2023-03-13T05:28:04.672971",
     "exception": false,
     "start_time": "2023-03-13T05:28:03.975215",
     "status": "completed"
    },
    "tags": []
   },
   "outputs": [
    {
     "name": "stdout",
     "output_type": "stream",
     "text": [
      "정확도:  0.8715, 정밀도:  0.8654, 재현율:  0.7377,    F1: 0.7965, AUC:0.8982\n",
      "정확도:  0.8380, 정밀도:  0.7857, 재현율:  0.7213,    F1: 0.7521, AUC:0.8952\n",
      "정확도:  0.8436, 정밀도:  0.7797, 재현율:  0.7541,    F1: 0.7667, AUC:0.8809\n"
     ]
    }
   ],
   "source": [
    "#choose model\n",
    "def findBestModel(model):    \n",
    "    model.fit(X_train, y_train)\n",
    "    preds = model.predict(X_test)\n",
    "    pred_proba = model.predict_proba(X_test)[:,1]\n",
    "    return get_clf_eval(y_test, preds, pred_proba)\n",
    "\n",
    "findBestModel(GradientBoostingClassifier())\n",
    "findBestModel(RandomForestClassifier())\n",
    "findBestModel(XGBClassifier())"
   ]
  },
  {
   "cell_type": "code",
   "execution_count": 11,
   "id": "eed40e35",
   "metadata": {
    "execution": {
     "iopub.execute_input": "2023-03-13T05:28:04.688492Z",
     "iopub.status.busy": "2023-03-13T05:28:04.687383Z",
     "iopub.status.idle": "2023-03-13T05:28:04.974298Z",
     "shell.execute_reply": "2023-03-13T05:28:04.972630Z"
    },
    "papermill": {
     "duration": 0.297963,
     "end_time": "2023-03-13T05:28:04.978019",
     "exception": false,
     "start_time": "2023-03-13T05:28:04.680056",
     "status": "completed"
    },
    "tags": []
   },
   "outputs": [
    {
     "name": "stdout",
     "output_type": "stream",
     "text": [
      "정확도:  0.8715, 정밀도:  0.8276, 재현율:  0.7869,    F1: 0.8067, AUC:0.8959\n",
      "정확도:  0.8715, 정밀도:  0.8958, 재현율:  0.7049,    F1: 0.7890, AUC:0.9030\n",
      "정확도:  0.8715, 정밀도:  0.8654, 재현율:  0.7377,    F1: 0.7965, AUC:0.8982\n"
     ]
    }
   ],
   "source": [
    "#GradientBoostingClassifier 파라미터 튜닝\n",
    "for i in [1,2,3]:\n",
    "    temp_model = GradientBoostingClassifier(max_depth=i).fit(X_train,y_train)\n",
    "    preds = temp_model.predict(X_test)\n",
    "    pred_proba = temp_model.predict_proba(X_test)[:, 1]\n",
    "    get_clf_eval(y_test, preds, pred_proba)"
   ]
  },
  {
   "cell_type": "code",
   "execution_count": 12,
   "id": "580938b4",
   "metadata": {
    "execution": {
     "iopub.execute_input": "2023-03-13T05:28:04.993469Z",
     "iopub.status.busy": "2023-03-13T05:28:04.992644Z",
     "iopub.status.idle": "2023-03-13T05:28:09.766640Z",
     "shell.execute_reply": "2023-03-13T05:28:09.765660Z"
    },
    "papermill": {
     "duration": 4.784385,
     "end_time": "2023-03-13T05:28:09.769384",
     "exception": false,
     "start_time": "2023-03-13T05:28:04.984999",
     "status": "completed"
    },
    "tags": []
   },
   "outputs": [],
   "source": [
    "train_acc, test_acc = [],[]\n",
    "test_estimators = range(5,201,5)\n",
    "for n_estimator in test_estimators:\n",
    "    temp_model = GradientBoostingClassifier(n_estimators=n_estimator, random_state=n_estimator, max_depth=3)\n",
    "    temp_model.fit(X_train,y_train)\n",
    "    \n",
    "    train_acc.append(temp_model.score(X_train,y_train))\n",
    "    test_acc.append(temp_model.score(X_test,y_test))"
   ]
  },
  {
   "cell_type": "code",
   "execution_count": 13,
   "id": "9944d27b",
   "metadata": {
    "execution": {
     "iopub.execute_input": "2023-03-13T05:28:09.783350Z",
     "iopub.status.busy": "2023-03-13T05:28:09.782977Z",
     "iopub.status.idle": "2023-03-13T05:28:10.201451Z",
     "shell.execute_reply": "2023-03-13T05:28:10.199952Z"
    },
    "papermill": {
     "duration": 0.428839,
     "end_time": "2023-03-13T05:28:10.204490",
     "exception": false,
     "start_time": "2023-03-13T05:28:09.775651",
     "status": "completed"
    },
    "tags": []
   },
   "outputs": [
    {
     "data": {
      "text/plain": [
       "<matplotlib.legend.Legend at 0x7f6858d09a90>"
      ]
     },
     "execution_count": 13,
     "metadata": {},
     "output_type": "execute_result"
    },
    {
     "data": {
      "image/png": "[encoded data removed]",
      "text/plain": [
       "<Figure size 2000x1000 with 1 Axes>"
      ]
     },
     "metadata": {},
     "output_type": "display_data"
    }
   ],
   "source": [
    "import matplotlib.pyplot as plt\n",
    "\n",
    "plt.figure(figsize = (20,10))\n",
    "plt.plot(test_estimators, train_acc, label=\"train\",marker='o')\n",
    "plt.plot(test_estimators, test_acc, label=\"test\",marker='o')\n",
    "plt.legend(fontsize=15)"
   ]
  },
  {
   "cell_type": "code",
   "execution_count": 14,
   "id": "e6508c32",
   "metadata": {
    "execution": {
     "iopub.execute_input": "2023-03-13T05:28:10.222824Z",
     "iopub.status.busy": "2023-03-13T05:28:10.221709Z",
     "iopub.status.idle": "2023-03-13T05:28:10.228335Z",
     "shell.execute_reply": "2023-03-13T05:28:10.227175Z"
    },
    "papermill": {
     "duration": 0.018351,
     "end_time": "2023-03-13T05:28:10.230819",
     "exception": false,
     "start_time": "2023-03-13T05:28:10.212468",
     "status": "completed"
    },
    "tags": []
   },
   "outputs": [
    {
     "name": "stdout",
     "output_type": "stream",
     "text": [
      "145\n"
     ]
    }
   ],
   "source": [
    "#n_estimators의 튜닝 값\n",
    "print(test_acc.index(max(test_acc)) * 5 + 5)"
   ]
  },
  {
   "cell_type": "code",
   "execution_count": 15,
   "id": "3d4092e4",
   "metadata": {
    "execution": {
     "iopub.execute_input": "2023-03-13T05:28:10.247200Z",
     "iopub.status.busy": "2023-03-13T05:28:10.246796Z",
     "iopub.status.idle": "2023-03-13T05:28:10.426849Z",
     "shell.execute_reply": "2023-03-13T05:28:10.425316Z"
    },
    "papermill": {
     "duration": 0.1913,
     "end_time": "2023-03-13T05:28:10.429500",
     "exception": false,
     "start_time": "2023-03-13T05:28:10.238200",
     "status": "completed"
    },
    "tags": []
   },
   "outputs": [
    {
     "name": "stdout",
     "output_type": "stream",
     "text": [
      "정확도:  0.8827, 정밀도:  0.8704, 재현율:  0.7705,    F1: 0.8174, AUC:0.8988\n"
     ]
    }
   ],
   "source": [
    "GBC_wrapper = GradientBoostingClassifier(n_estimators=145, random_state=145,max_depth=3)\n",
    "GBC_wrapper.fit(X_train,y_train)\n",
    "w_preds = GBC_wrapper.predict(X_test)\n",
    "wpred_proba = GBC_wrapper.predict_proba(X_test)[:, 1]\n",
    "get_clf_eval(y_test, w_preds, wpred_proba)"
   ]
  },
  {
   "cell_type": "code",
   "execution_count": 16,
   "id": "d78d7a72",
   "metadata": {
    "execution": {
     "iopub.execute_input": "2023-03-13T05:28:10.448286Z",
     "iopub.status.busy": "2023-03-13T05:28:10.447406Z",
     "iopub.status.idle": "2023-03-13T05:28:10.466809Z",
     "shell.execute_reply": "2023-03-13T05:28:10.465653Z"
    },
    "papermill": {
     "duration": 0.031127,
     "end_time": "2023-03-13T05:28:10.469370",
     "exception": false,
     "start_time": "2023-03-13T05:28:10.438243",
     "status": "completed"
    },
    "tags": []
   },
   "outputs": [],
   "source": [
    "test_df = pd.read_csv('/kaggle/input/titanic/test.csv')\n",
    "answer_df = pd.DataFrame(test_df['PassengerId'],columns=['PassengerId'])\n",
    "test_df = transform_features(test_df)"
   ]
  },
  {
   "cell_type": "code",
   "execution_count": 17,
   "id": "1935a826",
   "metadata": {
    "execution": {
     "iopub.execute_input": "2023-03-13T05:28:10.486452Z",
     "iopub.status.busy": "2023-03-13T05:28:10.486071Z",
     "iopub.status.idle": "2023-03-13T05:28:10.499574Z",
     "shell.execute_reply": "2023-03-13T05:28:10.497648Z"
    },
    "papermill": {
     "duration": 0.025705,
     "end_time": "2023-03-13T05:28:10.502844",
     "exception": false,
     "start_time": "2023-03-13T05:28:10.477139",
     "status": "completed"
    },
    "tags": []
   },
   "outputs": [
    {
     "name": "stdout",
     "output_type": "stream",
     "text": [
      "     PassengerId  Survived\n",
      "0            892         0\n",
      "1            893         1\n",
      "2            894         0\n",
      "3            895         0\n",
      "4            896         0\n",
      "..           ...       ...\n",
      "413         1305         0\n",
      "414         1306         1\n",
      "415         1307         0\n",
      "416         1308         0\n",
      "417         1309         0\n",
      "\n",
      "[418 rows x 2 columns]\n"
     ]
    }
   ],
   "source": [
    "answer = GBC_wrapper.predict(test_df)\n",
    "answer_df['Survived'] = answer\n",
    "print(answer_df)"
   ]
  },
  {
   "cell_type": "code",
   "execution_count": 18,
   "id": "17f0d518",
   "metadata": {
    "execution": {
     "iopub.execute_input": "2023-03-13T05:28:10.520355Z",
     "iopub.status.busy": "2023-03-13T05:28:10.519963Z",
     "iopub.status.idle": "2023-03-13T05:28:10.530785Z",
     "shell.execute_reply": "2023-03-13T05:28:10.529753Z"
    },
    "papermill": {
     "duration": 0.022242,
     "end_time": "2023-03-13T05:28:10.533170",
     "exception": false,
     "start_time": "2023-03-13T05:28:10.510928",
     "status": "completed"
    },
    "tags": []
   },
   "outputs": [],
   "source": [
    "answer_df.to_csv('/kaggle/working/titanic_answer.csv',index=False)"
   ]
  }
 ],
 "metadata": {
  "kernelspec": {
   "display_name": "Python 3",
   "language": "python",
   "name": "python3"
  },
  "language_info": {
   "codemirror_mode": {
    "name": "ipython",
    "version": 3
   },
   "file_extension": ".py",
   "mimetype": "text/x-python",
   "name": "python",
   "nbconvert_exporter": "python",
   "pygments_lexer": "ipython3",
   "version": "3.7.12"
  },
  "papermill": {
   "default_parameters": {},
   "duration": 19.393067,
   "end_time": "2023-03-13T05:28:11.263592",
   "environment_variables": {},
   "exception": null,
   "input_path": "__notebook__.ipynb",
   "output_path": "__notebook__.ipynb",
   "parameters": {},
   "start_time": "2023-03-13T05:27:51.870525",
   "version": "2.4.0"
  }
 },
 "nbformat": 4,
 "nbformat_minor": 5
}
