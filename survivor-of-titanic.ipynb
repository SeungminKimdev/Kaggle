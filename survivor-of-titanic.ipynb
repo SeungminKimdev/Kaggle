{
 "cells": [
  {
   "cell_type": "code",
   "execution_count": 1,
   "id": "785433a6",
   "metadata": {
    "_cell_guid": "b1076dfc-b9ad-4769-8c92-a6c4dae69d19",
    "_uuid": "8f2839f25d086af736a60e9eeb907d3b93b6e0e5",
    "execution": {
     "iopub.execute_input": "2023-03-13T04:29:02.511474Z",
     "iopub.status.busy": "2023-03-13T04:29:02.510739Z",
     "iopub.status.idle": "2023-03-13T04:29:02.525278Z",
     "shell.execute_reply": "2023-03-13T04:29:02.524268Z"
    },
    "papermill": {
     "duration": 0.026932,
     "end_time": "2023-03-13T04:29:02.529242",
     "exception": false,
     "start_time": "2023-03-13T04:29:02.502310",
     "status": "completed"
    },
    "tags": []
   },
   "outputs": [
    {
     "name": "stdout",
     "output_type": "stream",
     "text": [
      "/kaggle/input/titanic/train.csv\n",
      "/kaggle/input/titanic/test.csv\n",
      "/kaggle/input/titanic/gender_submission.csv\n"
     ]
    }
   ],
   "source": [
    "# This Python 3 environment comes with many helpful analytics libraries installed\n",
    "# It is defined by the kaggle/python Docker image: https://github.com/kaggle/docker-python\n",
    "# For example, here's several helpful packages to load\n",
    "\n",
    "import numpy as np # linear algebra\n",
    "import pandas as pd # data processing, CSV file I/O (e.g. pd.read_csv)\n",
    "\n",
    "# Input data files are available in the read-only \"../input/\" directory\n",
    "# For example, running this (by clicking run or pressing Shift+Enter) will list all files under the input directory\n",
    "\n",
    "import os\n",
    "for dirname, _, filenames in os.walk('/kaggle/input'):\n",
    "    for filename in filenames:\n",
    "        print(os.path.join(dirname, filename))\n",
    "\n",
    "# You can write up to 20GB to the current directory (/kaggle/working/) that gets preserved as output when you create a version using \"Save & Run All\" \n",
    "# You can also write temporary files to /kaggle/temp/, but they won't be saved outside of the current session"
   ]
  },
  {
   "cell_type": "code",
   "execution_count": 2,
   "id": "b6827486",
   "metadata": {
    "execution": {
     "iopub.execute_input": "2023-03-13T04:29:02.543384Z",
     "iopub.status.busy": "2023-03-13T04:29:02.542326Z",
     "iopub.status.idle": "2023-03-13T04:29:03.870579Z",
     "shell.execute_reply": "2023-03-13T04:29:03.869287Z"
    },
    "papermill": {
     "duration": 1.337682,
     "end_time": "2023-03-13T04:29:03.873281",
     "exception": false,
     "start_time": "2023-03-13T04:29:02.535599",
     "status": "completed"
    },
    "tags": []
   },
   "outputs": [
    {
     "data": {
      "text/html": [
       "<div>\n",
       "<style scoped>\n",
       "    .dataframe tbody tr th:only-of-type {\n",
       "        vertical-align: middle;\n",
       "    }\n",
       "\n",
       "    .dataframe tbody tr th {\n",
       "        vertical-align: top;\n",
       "    }\n",
       "\n",
       "    .dataframe thead th {\n",
       "        text-align: right;\n",
       "    }\n",
       "</style>\n",
       "<table border=\"1\" class=\"dataframe\">\n",
       "  <thead>\n",
       "    <tr style=\"text-align: right;\">\n",
       "      <th></th>\n",
       "      <th>PassengerId</th>\n",
       "      <th>Survived</th>\n",
       "      <th>Pclass</th>\n",
       "      <th>Name</th>\n",
       "      <th>Sex</th>\n",
       "      <th>Age</th>\n",
       "      <th>SibSp</th>\n",
       "      <th>Parch</th>\n",
       "      <th>Ticket</th>\n",
       "      <th>Fare</th>\n",
       "      <th>Cabin</th>\n",
       "      <th>Embarked</th>\n",
       "    </tr>\n",
       "  </thead>\n",
       "  <tbody>\n",
       "    <tr>\n",
       "      <th>0</th>\n",
       "      <td>1</td>\n",
       "      <td>0</td>\n",
       "      <td>3</td>\n",
       "      <td>Braund, Mr. Owen Harris</td>\n",
       "      <td>male</td>\n",
       "      <td>22.0</td>\n",
       "      <td>1</td>\n",
       "      <td>0</td>\n",
       "      <td>A/5 21171</td>\n",
       "      <td>7.2500</td>\n",
       "      <td>NaN</td>\n",
       "      <td>S</td>\n",
       "    </tr>\n",
       "    <tr>\n",
       "      <th>1</th>\n",
       "      <td>2</td>\n",
       "      <td>1</td>\n",
       "      <td>1</td>\n",
       "      <td>Cumings, Mrs. John Bradley (Florence Briggs Th...</td>\n",
       "      <td>female</td>\n",
       "      <td>38.0</td>\n",
       "      <td>1</td>\n",
       "      <td>0</td>\n",
       "      <td>PC 17599</td>\n",
       "      <td>71.2833</td>\n",
       "      <td>C85</td>\n",
       "      <td>C</td>\n",
       "    </tr>\n",
       "    <tr>\n",
       "      <th>2</th>\n",
       "      <td>3</td>\n",
       "      <td>1</td>\n",
       "      <td>3</td>\n",
       "      <td>Heikkinen, Miss. Laina</td>\n",
       "      <td>female</td>\n",
       "      <td>26.0</td>\n",
       "      <td>0</td>\n",
       "      <td>0</td>\n",
       "      <td>STON/O2. 3101282</td>\n",
       "      <td>7.9250</td>\n",
       "      <td>NaN</td>\n",
       "      <td>S</td>\n",
       "    </tr>\n",
       "    <tr>\n",
       "      <th>3</th>\n",
       "      <td>4</td>\n",
       "      <td>1</td>\n",
       "      <td>1</td>\n",
       "      <td>Futrelle, Mrs. Jacques Heath (Lily May Peel)</td>\n",
       "      <td>female</td>\n",
       "      <td>35.0</td>\n",
       "      <td>1</td>\n",
       "      <td>0</td>\n",
       "      <td>113803</td>\n",
       "      <td>53.1000</td>\n",
       "      <td>C123</td>\n",
       "      <td>S</td>\n",
       "    </tr>\n",
       "    <tr>\n",
       "      <th>4</th>\n",
       "      <td>5</td>\n",
       "      <td>0</td>\n",
       "      <td>3</td>\n",
       "      <td>Allen, Mr. William Henry</td>\n",
       "      <td>male</td>\n",
       "      <td>35.0</td>\n",
       "      <td>0</td>\n",
       "      <td>0</td>\n",
       "      <td>373450</td>\n",
       "      <td>8.0500</td>\n",
       "      <td>NaN</td>\n",
       "      <td>S</td>\n",
       "    </tr>\n",
       "  </tbody>\n",
       "</table>\n",
       "</div>"
      ],
      "text/plain": [
       "   PassengerId  Survived  Pclass  \\\n",
       "0            1         0       3   \n",
       "1            2         1       1   \n",
       "2            3         1       3   \n",
       "3            4         1       1   \n",
       "4            5         0       3   \n",
       "\n",
       "                                                Name     Sex   Age  SibSp  \\\n",
       "0                            Braund, Mr. Owen Harris    male  22.0      1   \n",
       "1  Cumings, Mrs. John Bradley (Florence Briggs Th...  female  38.0      1   \n",
       "2                             Heikkinen, Miss. Laina  female  26.0      0   \n",
       "3       Futrelle, Mrs. Jacques Heath (Lily May Peel)  female  35.0      1   \n",
       "4                           Allen, Mr. William Henry    male  35.0      0   \n",
       "\n",
       "   Parch            Ticket     Fare Cabin Embarked  \n",
       "0      0         A/5 21171   7.2500   NaN        S  \n",
       "1      0          PC 17599  71.2833   C85        C  \n",
       "2      0  STON/O2. 3101282   7.9250   NaN        S  \n",
       "3      0            113803  53.1000  C123        S  \n",
       "4      0            373450   8.0500   NaN        S  "
      ]
     },
     "execution_count": 2,
     "metadata": {},
     "output_type": "execute_result"
    }
   ],
   "source": [
    "import matplotlib.pyplot as plt\n",
    "import seaborn as sns\n",
    "%matplotlib inline\n",
    "\n",
    "titanic_df = pd.read_csv('/kaggle/input/titanic/train.csv')\n",
    "titanic_df.head(5)"
   ]
  },
  {
   "cell_type": "code",
   "execution_count": 3,
   "id": "db7b36cb",
   "metadata": {
    "execution": {
     "iopub.execute_input": "2023-03-13T04:29:03.886349Z",
     "iopub.status.busy": "2023-03-13T04:29:03.885952Z",
     "iopub.status.idle": "2023-03-13T04:29:03.913169Z",
     "shell.execute_reply": "2023-03-13T04:29:03.911326Z"
    },
    "papermill": {
     "duration": 0.037421,
     "end_time": "2023-03-13T04:29:03.916184",
     "exception": false,
     "start_time": "2023-03-13T04:29:03.878763",
     "status": "completed"
    },
    "tags": []
   },
   "outputs": [
    {
     "name": "stdout",
     "output_type": "stream",
     "text": [
      "<class 'pandas.core.frame.DataFrame'>\n",
      "RangeIndex: 891 entries, 0 to 890\n",
      "Data columns (total 12 columns):\n",
      " #   Column       Non-Null Count  Dtype  \n",
      "---  ------       --------------  -----  \n",
      " 0   PassengerId  891 non-null    int64  \n",
      " 1   Survived     891 non-null    int64  \n",
      " 2   Pclass       891 non-null    int64  \n",
      " 3   Name         891 non-null    object \n",
      " 4   Sex          891 non-null    object \n",
      " 5   Age          714 non-null    float64\n",
      " 6   SibSp        891 non-null    int64  \n",
      " 7   Parch        891 non-null    int64  \n",
      " 8   Ticket       891 non-null    object \n",
      " 9   Fare         891 non-null    float64\n",
      " 10  Cabin        204 non-null    object \n",
      " 11  Embarked     889 non-null    object \n",
      "dtypes: float64(2), int64(5), object(5)\n",
      "memory usage: 83.7+ KB\n",
      "None\n"
     ]
    }
   ],
   "source": [
    "print(titanic_df.info())"
   ]
  },
  {
   "cell_type": "code",
   "execution_count": 4,
   "id": "0053dead",
   "metadata": {
    "execution": {
     "iopub.execute_input": "2023-03-13T04:29:03.928767Z",
     "iopub.status.busy": "2023-03-13T04:29:03.928303Z",
     "iopub.status.idle": "2023-03-13T04:29:03.940844Z",
     "shell.execute_reply": "2023-03-13T04:29:03.939375Z"
    },
    "papermill": {
     "duration": 0.022653,
     "end_time": "2023-03-13T04:29:03.944266",
     "exception": false,
     "start_time": "2023-03-13T04:29:03.921613",
     "status": "completed"
    },
    "tags": []
   },
   "outputs": [
    {
     "name": "stdout",
     "output_type": "stream",
     "text": [
      "Sum null =  0\n"
     ]
    }
   ],
   "source": [
    "titanic_df['Age'].fillna(titanic_df['Age'].mean(),inplace=True)\n",
    "titanic_df['Cabin'].fillna('N',inplace=True)\n",
    "titanic_df['Embarked'].fillna('N',inplace=True)\n",
    "print('Sum null = ', titanic_df.isnull().sum().sum())"
   ]
  },
  {
   "cell_type": "code",
   "execution_count": 5,
   "id": "54ec7e72",
   "metadata": {
    "execution": {
     "iopub.execute_input": "2023-03-13T04:29:03.958003Z",
     "iopub.status.busy": "2023-03-13T04:29:03.957604Z",
     "iopub.status.idle": "2023-03-13T04:29:04.162072Z",
     "shell.execute_reply": "2023-03-13T04:29:04.160711Z"
    },
    "papermill": {
     "duration": 0.214173,
     "end_time": "2023-03-13T04:29:04.164642",
     "exception": false,
     "start_time": "2023-03-13T04:29:03.950469",
     "status": "completed"
    },
    "tags": []
   },
   "outputs": [
    {
     "data": {
      "text/html": [
       "<div>\n",
       "<style scoped>\n",
       "    .dataframe tbody tr th:only-of-type {\n",
       "        vertical-align: middle;\n",
       "    }\n",
       "\n",
       "    .dataframe tbody tr th {\n",
       "        vertical-align: top;\n",
       "    }\n",
       "\n",
       "    .dataframe thead th {\n",
       "        text-align: right;\n",
       "    }\n",
       "</style>\n",
       "<table border=\"1\" class=\"dataframe\">\n",
       "  <thead>\n",
       "    <tr style=\"text-align: right;\">\n",
       "      <th></th>\n",
       "      <th>PassengerId</th>\n",
       "      <th>Survived</th>\n",
       "      <th>Pclass</th>\n",
       "      <th>Name</th>\n",
       "      <th>Sex</th>\n",
       "      <th>Age</th>\n",
       "      <th>SibSp</th>\n",
       "      <th>Parch</th>\n",
       "      <th>Ticket</th>\n",
       "      <th>Fare</th>\n",
       "      <th>Cabin</th>\n",
       "      <th>Embarked</th>\n",
       "    </tr>\n",
       "  </thead>\n",
       "  <tbody>\n",
       "    <tr>\n",
       "      <th>0</th>\n",
       "      <td>1</td>\n",
       "      <td>0</td>\n",
       "      <td>3</td>\n",
       "      <td>Braund, Mr. Owen Harris</td>\n",
       "      <td>1</td>\n",
       "      <td>22.0</td>\n",
       "      <td>1</td>\n",
       "      <td>0</td>\n",
       "      <td>A/5 21171</td>\n",
       "      <td>7.2500</td>\n",
       "      <td>146</td>\n",
       "      <td>3</td>\n",
       "    </tr>\n",
       "    <tr>\n",
       "      <th>1</th>\n",
       "      <td>2</td>\n",
       "      <td>1</td>\n",
       "      <td>1</td>\n",
       "      <td>Cumings, Mrs. John Bradley (Florence Briggs Th...</td>\n",
       "      <td>0</td>\n",
       "      <td>38.0</td>\n",
       "      <td>1</td>\n",
       "      <td>0</td>\n",
       "      <td>PC 17599</td>\n",
       "      <td>71.2833</td>\n",
       "      <td>81</td>\n",
       "      <td>0</td>\n",
       "    </tr>\n",
       "    <tr>\n",
       "      <th>2</th>\n",
       "      <td>3</td>\n",
       "      <td>1</td>\n",
       "      <td>3</td>\n",
       "      <td>Heikkinen, Miss. Laina</td>\n",
       "      <td>0</td>\n",
       "      <td>26.0</td>\n",
       "      <td>0</td>\n",
       "      <td>0</td>\n",
       "      <td>STON/O2. 3101282</td>\n",
       "      <td>7.9250</td>\n",
       "      <td>146</td>\n",
       "      <td>3</td>\n",
       "    </tr>\n",
       "    <tr>\n",
       "      <th>3</th>\n",
       "      <td>4</td>\n",
       "      <td>1</td>\n",
       "      <td>1</td>\n",
       "      <td>Futrelle, Mrs. Jacques Heath (Lily May Peel)</td>\n",
       "      <td>0</td>\n",
       "      <td>35.0</td>\n",
       "      <td>1</td>\n",
       "      <td>0</td>\n",
       "      <td>113803</td>\n",
       "      <td>53.1000</td>\n",
       "      <td>55</td>\n",
       "      <td>3</td>\n",
       "    </tr>\n",
       "    <tr>\n",
       "      <th>4</th>\n",
       "      <td>5</td>\n",
       "      <td>0</td>\n",
       "      <td>3</td>\n",
       "      <td>Allen, Mr. William Henry</td>\n",
       "      <td>1</td>\n",
       "      <td>35.0</td>\n",
       "      <td>0</td>\n",
       "      <td>0</td>\n",
       "      <td>373450</td>\n",
       "      <td>8.0500</td>\n",
       "      <td>146</td>\n",
       "      <td>3</td>\n",
       "    </tr>\n",
       "  </tbody>\n",
       "</table>\n",
       "</div>"
      ],
      "text/plain": [
       "   PassengerId  Survived  Pclass  \\\n",
       "0            1         0       3   \n",
       "1            2         1       1   \n",
       "2            3         1       3   \n",
       "3            4         1       1   \n",
       "4            5         0       3   \n",
       "\n",
       "                                                Name  Sex   Age  SibSp  Parch  \\\n",
       "0                            Braund, Mr. Owen Harris    1  22.0      1      0   \n",
       "1  Cumings, Mrs. John Bradley (Florence Briggs Th...    0  38.0      1      0   \n",
       "2                             Heikkinen, Miss. Laina    0  26.0      0      0   \n",
       "3       Futrelle, Mrs. Jacques Heath (Lily May Peel)    0  35.0      1      0   \n",
       "4                           Allen, Mr. William Henry    1  35.0      0      0   \n",
       "\n",
       "             Ticket     Fare  Cabin  Embarked  \n",
       "0         A/5 21171   7.2500    146         3  \n",
       "1          PC 17599  71.2833     81         0  \n",
       "2  STON/O2. 3101282   7.9250    146         3  \n",
       "3            113803  53.1000     55         3  \n",
       "4            373450   8.0500    146         3  "
      ]
     },
     "execution_count": 5,
     "metadata": {},
     "output_type": "execute_result"
    }
   ],
   "source": [
    "from sklearn import preprocessing\n",
    "\n",
    "def encode_features(dataDF):\n",
    "    features = ['Cabin', 'Sex', 'Embarked']\n",
    "    for feature in features:\n",
    "        le = preprocessing.LabelEncoder()\n",
    "        le = le.fit(dataDF[feature])\n",
    "        dataDF[feature] = le.transform(dataDF[feature])\n",
    "        \n",
    "    return dataDF\n",
    "\n",
    "titanic_df = encode_features(titanic_df)\n",
    "titanic_df.head(5)"
   ]
  },
  {
   "cell_type": "code",
   "execution_count": 6,
   "id": "51f86a94",
   "metadata": {
    "execution": {
     "iopub.execute_input": "2023-03-13T04:29:04.178748Z",
     "iopub.status.busy": "2023-03-13T04:29:04.177742Z",
     "iopub.status.idle": "2023-03-13T04:29:04.188755Z",
     "shell.execute_reply": "2023-03-13T04:29:04.187821Z"
    },
    "papermill": {
     "duration": 0.020783,
     "end_time": "2023-03-13T04:29:04.191305",
     "exception": false,
     "start_time": "2023-03-13T04:29:04.170522",
     "status": "completed"
    },
    "tags": []
   },
   "outputs": [],
   "source": [
    "from sklearn.preprocessing import LabelEncoder\n",
    "\n",
    "def fillna(df):\n",
    "    df['Age'].fillna(df['Age'].mean(),inplace=True)\n",
    "    df['Cabin'].fillna('N',inplace=True)\n",
    "    df['Embarked'].fillna('N',inplace=True)\n",
    "    df['Fare'].fillna(0,inplace=True)\n",
    "    return df\n",
    "\n",
    "def drop_features(df):\n",
    "    df.drop(['PassengerId', 'Name', 'Ticket'],axis=1,inplace=True)\n",
    "    return df\n",
    "\n",
    "def format_features(df):\n",
    "    df['Cabin'] = df['Cabin'].str[:1]\n",
    "    features = ['Cabin', 'Sex', 'Embarked']\n",
    "    for feature in features:\n",
    "        le = LabelEncoder()\n",
    "        le = le.fit(df[feature])\n",
    "        df[feature] = le.transform(df[feature])\n",
    "    return df\n",
    "\n",
    "def transform_features(df):\n",
    "    df = fillna(df)\n",
    "    df = drop_features(df)\n",
    "    df = format_features(df)\n",
    "    return df"
   ]
  },
  {
   "cell_type": "code",
   "execution_count": 7,
   "id": "dd719a74",
   "metadata": {
    "execution": {
     "iopub.execute_input": "2023-03-13T04:29:04.206904Z",
     "iopub.status.busy": "2023-03-13T04:29:04.206167Z",
     "iopub.status.idle": "2023-03-13T04:29:04.225205Z",
     "shell.execute_reply": "2023-03-13T04:29:04.223722Z"
    },
    "papermill": {
     "duration": 0.029535,
     "end_time": "2023-03-13T04:29:04.228247",
     "exception": false,
     "start_time": "2023-03-13T04:29:04.198712",
     "status": "completed"
    },
    "tags": []
   },
   "outputs": [],
   "source": [
    "titanic_df = pd.read_csv('/kaggle/input/titanic/train.csv')\n",
    "y_titanic_df = titanic_df['Survived']\n",
    "X_titanic_df = titanic_df.drop('Survived',axis=1)\n",
    "X_titanic_df = transform_features(X_titanic_df)"
   ]
  },
  {
   "cell_type": "code",
   "execution_count": 8,
   "id": "c5ee8490",
   "metadata": {
    "execution": {
     "iopub.execute_input": "2023-03-13T04:29:04.241563Z",
     "iopub.status.busy": "2023-03-13T04:29:04.241111Z",
     "iopub.status.idle": "2023-03-13T04:29:04.302819Z",
     "shell.execute_reply": "2023-03-13T04:29:04.301593Z"
    },
    "papermill": {
     "duration": 0.072024,
     "end_time": "2023-03-13T04:29:04.306013",
     "exception": false,
     "start_time": "2023-03-13T04:29:04.233989",
     "status": "completed"
    },
    "tags": []
   },
   "outputs": [],
   "source": [
    "from sklearn.metrics import confusion_matrix, accuracy_score\n",
    "from sklearn.metrics import precision_score, recall_score\n",
    "from sklearn.metrics import f1_score, roc_auc_score\n",
    "\n",
    "def get_clf_eval(y_test, pred=None, pred_proba=None):\n",
    "    confusion = confusion_matrix(y_test, pred)\n",
    "    accuracy = accuracy_score(y_test,pred)\n",
    "    precision = precision_score(y_test, pred)\n",
    "    recall = recall_score(y_test, pred)\n",
    "    f1 = f1_score(y_test, pred)\n",
    "    roc_auc = roc_auc_score(y_test, pred_proba)\n",
    "    print('정확도: {0: .4f}, 정밀도: {1: .4f}, 재현율: {2: .4f},\\\n",
    "    F1: {3:.4f}, AUC:{4:.4f}'.format(accuracy,precision,recall, f1, roc_auc))"
   ]
  },
  {
   "cell_type": "code",
   "execution_count": 9,
   "id": "6b46e49f",
   "metadata": {
    "execution": {
     "iopub.execute_input": "2023-03-13T04:29:04.319334Z",
     "iopub.status.busy": "2023-03-13T04:29:04.318940Z",
     "iopub.status.idle": "2023-03-13T04:29:05.441233Z",
     "shell.execute_reply": "2023-03-13T04:29:05.440224Z"
    },
    "papermill": {
     "duration": 1.132481,
     "end_time": "2023-03-13T04:29:05.444369",
     "exception": false,
     "start_time": "2023-03-13T04:29:04.311888",
     "status": "completed"
    },
    "tags": []
   },
   "outputs": [],
   "source": [
    "import xgboost as xgb\n",
    "from xgboost import plot_importance\n",
    "from xgboost import XGBClassifier\n",
    "from sklearn.model_selection import train_test_split\n",
    "import warnings\n",
    "warnings.filterwarnings('ignore')\n",
    "\n",
    "X_train, X_test, y_train, y_test = train_test_split(X_titanic_df, y_titanic_df, test_size = 0.2, random_state = 11)\n",
    "\n",
    "xgb_wrapper = XGBClassifier(n_estimators=400, learning_rate=0.1, max_depth=3)\n",
    "xgb_wrapper.fit(X_train,y_train)\n",
    "w_preds = xgb_wrapper.predict(X_test)\n",
    "w_pred_proba = xgb_wrapper.predict_proba(X_test)[:, 1]"
   ]
  },
  {
   "cell_type": "code",
   "execution_count": 10,
   "id": "d3086a42",
   "metadata": {
    "execution": {
     "iopub.execute_input": "2023-03-13T04:29:05.460078Z",
     "iopub.status.busy": "2023-03-13T04:29:05.459639Z",
     "iopub.status.idle": "2023-03-13T04:29:05.474910Z",
     "shell.execute_reply": "2023-03-13T04:29:05.473501Z"
    },
    "papermill": {
     "duration": 0.026482,
     "end_time": "2023-03-13T04:29:05.477795",
     "exception": false,
     "start_time": "2023-03-13T04:29:05.451313",
     "status": "completed"
    },
    "tags": []
   },
   "outputs": [
    {
     "name": "stdout",
     "output_type": "stream",
     "text": [
      "정확도:  0.8715, 정밀도:  0.8393, 재현율:  0.7705,    F1: 0.8034, AUC:0.8858\n"
     ]
    }
   ],
   "source": [
    "get_clf_eval(y_test, w_preds, w_pred_proba)"
   ]
  },
  {
   "cell_type": "code",
   "execution_count": 11,
   "id": "23131f96",
   "metadata": {
    "execution": {
     "iopub.execute_input": "2023-03-13T04:29:05.492146Z",
     "iopub.status.busy": "2023-03-13T04:29:05.491445Z",
     "iopub.status.idle": "2023-03-13T04:29:05.972207Z",
     "shell.execute_reply": "2023-03-13T04:29:05.971139Z"
    },
    "papermill": {
     "duration": 0.491205,
     "end_time": "2023-03-13T04:29:05.975035",
     "exception": false,
     "start_time": "2023-03-13T04:29:05.483830",
     "status": "completed"
    },
    "tags": []
   },
   "outputs": [
    {
     "name": "stdout",
     "output_type": "stream",
     "text": [
      "[0]\tvalidation_0-logloss:0.64363\n",
      "[1]\tvalidation_0-logloss:0.60230\n",
      "[2]\tvalidation_0-logloss:0.56813\n",
      "[3]\tvalidation_0-logloss:0.53851\n",
      "[4]\tvalidation_0-logloss:0.51327\n",
      "[5]\tvalidation_0-logloss:0.49142\n",
      "[6]\tvalidation_0-logloss:0.47344\n",
      "[7]\tvalidation_0-logloss:0.45833\n",
      "[8]\tvalidation_0-logloss:0.44434\n",
      "[9]\tvalidation_0-logloss:0.43265\n",
      "[10]\tvalidation_0-logloss:0.42314\n",
      "[11]\tvalidation_0-logloss:0.41294\n",
      "[12]\tvalidation_0-logloss:0.40494\n",
      "[13]\tvalidation_0-logloss:0.39923\n",
      "[14]\tvalidation_0-logloss:0.39177\n",
      "[15]\tvalidation_0-logloss:0.38741\n",
      "[16]\tvalidation_0-logloss:0.38192\n",
      "[17]\tvalidation_0-logloss:0.37808\n",
      "[18]\tvalidation_0-logloss:0.37361\n",
      "[19]\tvalidation_0-logloss:0.37122\n",
      "[20]\tvalidation_0-logloss:0.36748\n",
      "[21]\tvalidation_0-logloss:0.36583\n",
      "[22]\tvalidation_0-logloss:0.36288\n",
      "[23]\tvalidation_0-logloss:0.36092\n",
      "[24]\tvalidation_0-logloss:0.35972\n",
      "[25]\tvalidation_0-logloss:0.35902\n",
      "[26]\tvalidation_0-logloss:0.35813\n",
      "[27]\tvalidation_0-logloss:0.35742\n",
      "[28]\tvalidation_0-logloss:0.35712\n",
      "[29]\tvalidation_0-logloss:0.35654\n",
      "[30]\tvalidation_0-logloss:0.35552\n",
      "[31]\tvalidation_0-logloss:0.35432\n",
      "[32]\tvalidation_0-logloss:0.35522\n",
      "[33]\tvalidation_0-logloss:0.35451\n",
      "[34]\tvalidation_0-logloss:0.35359\n",
      "[35]\tvalidation_0-logloss:0.35305\n",
      "[36]\tvalidation_0-logloss:0.35272\n",
      "[37]\tvalidation_0-logloss:0.35161\n",
      "[38]\tvalidation_0-logloss:0.35034\n",
      "[39]\tvalidation_0-logloss:0.35036\n",
      "[40]\tvalidation_0-logloss:0.34979\n",
      "[41]\tvalidation_0-logloss:0.34933\n",
      "[42]\tvalidation_0-logloss:0.34925\n",
      "[43]\tvalidation_0-logloss:0.34883\n",
      "[44]\tvalidation_0-logloss:0.34859\n",
      "[45]\tvalidation_0-logloss:0.34810\n",
      "[46]\tvalidation_0-logloss:0.34853\n",
      "[47]\tvalidation_0-logloss:0.34898\n",
      "[48]\tvalidation_0-logloss:0.34945\n",
      "[49]\tvalidation_0-logloss:0.34829\n",
      "[50]\tvalidation_0-logloss:0.34788\n",
      "[51]\tvalidation_0-logloss:0.34809\n",
      "[52]\tvalidation_0-logloss:0.34778\n",
      "[53]\tvalidation_0-logloss:0.34842\n",
      "[54]\tvalidation_0-logloss:0.34824\n",
      "[55]\tvalidation_0-logloss:0.34811\n",
      "[56]\tvalidation_0-logloss:0.34806\n",
      "[57]\tvalidation_0-logloss:0.34795\n",
      "[58]\tvalidation_0-logloss:0.34862\n",
      "[59]\tvalidation_0-logloss:0.34850\n",
      "[60]\tvalidation_0-logloss:0.34875\n",
      "[61]\tvalidation_0-logloss:0.34840\n",
      "[62]\tvalidation_0-logloss:0.34889\n",
      "정확도:  0.8715, 정밀도:  0.8958, 재현율:  0.7049,    F1: 0.7890, AUC:0.9023\n"
     ]
    }
   ],
   "source": [
    "evals = [(X_test,y_test)]\n",
    "xgb_wrapper.fit(X_train,y_train,early_stopping_rounds=10,eval_metric='logloss',eval_set=evals,verbose=True)\n",
    "ws10_preds = xgb_wrapper.predict(X_test)\n",
    "ws10_pred_proba = xgb_wrapper.predict_proba(X_test)[:,1]\n",
    "get_clf_eval(y_test,ws10_preds,ws10_pred_proba)"
   ]
  },
  {
   "cell_type": "code",
   "execution_count": 12,
   "id": "1bcf0500",
   "metadata": {
    "execution": {
     "iopub.execute_input": "2023-03-13T04:29:05.998322Z",
     "iopub.status.busy": "2023-03-13T04:29:05.997550Z",
     "iopub.status.idle": "2023-03-13T04:29:06.316642Z",
     "shell.execute_reply": "2023-03-13T04:29:06.315317Z"
    },
    "papermill": {
     "duration": 0.333213,
     "end_time": "2023-03-13T04:29:06.319273",
     "exception": false,
     "start_time": "2023-03-13T04:29:05.986060",
     "status": "completed"
    },
    "tags": []
   },
   "outputs": [
    {
     "data": {
      "text/plain": [
       "<AxesSubplot:title={'center':'Feature importance'}, xlabel='F score', ylabel='Features'>"
      ]
     },
     "execution_count": 12,
     "metadata": {},
     "output_type": "execute_result"
    },
    {
     "data": {
      "image/png": "[encoded data removed]",
      "text/plain": [
       "<Figure size 500x600 with 1 Axes>"
      ]
     },
     "metadata": {},
     "output_type": "display_data"
    }
   ],
   "source": [
    "from xgboost import plot_importance\n",
    "import matplotlib.pyplot as plt\n",
    "%matplotlib inline\n",
    "\n",
    "fig, ax = plt.subplots(figsize=(5, 6))\n",
    "\n",
    "plot_importance(xgb_wrapper, ax=ax)"
   ]
  },
  {
   "cell_type": "code",
   "execution_count": 13,
   "id": "55c42997",
   "metadata": {
    "execution": {
     "iopub.execute_input": "2023-03-13T04:29:06.344238Z",
     "iopub.status.busy": "2023-03-13T04:29:06.341978Z",
     "iopub.status.idle": "2023-03-13T04:29:06.362525Z",
     "shell.execute_reply": "2023-03-13T04:29:06.361464Z"
    },
    "papermill": {
     "duration": 0.035564,
     "end_time": "2023-03-13T04:29:06.365432",
     "exception": false,
     "start_time": "2023-03-13T04:29:06.329868",
     "status": "completed"
    },
    "tags": []
   },
   "outputs": [],
   "source": [
    "test_df = pd.read_csv('/kaggle/input/titanic/test.csv')\n",
    "test_df.head(5)\n",
    "answer_df = pd.DataFrame(test_df['PassengerId'],columns=['PassengerId'])\n",
    "test_df = transform_features(test_df)"
   ]
  },
  {
   "cell_type": "code",
   "execution_count": 14,
   "id": "ded536f1",
   "metadata": {
    "execution": {
     "iopub.execute_input": "2023-03-13T04:29:06.390483Z",
     "iopub.status.busy": "2023-03-13T04:29:06.389158Z",
     "iopub.status.idle": "2023-03-13T04:29:06.407469Z",
     "shell.execute_reply": "2023-03-13T04:29:06.405668Z"
    },
    "papermill": {
     "duration": 0.034408,
     "end_time": "2023-03-13T04:29:06.410746",
     "exception": false,
     "start_time": "2023-03-13T04:29:06.376338",
     "status": "completed"
    },
    "tags": []
   },
   "outputs": [
    {
     "name": "stdout",
     "output_type": "stream",
     "text": [
      "<class 'pandas.core.frame.DataFrame'>\n",
      "RangeIndex: 418 entries, 0 to 417\n",
      "Data columns (total 8 columns):\n",
      " #   Column    Non-Null Count  Dtype  \n",
      "---  ------    --------------  -----  \n",
      " 0   Pclass    418 non-null    int64  \n",
      " 1   Sex       418 non-null    int64  \n",
      " 2   Age       418 non-null    float64\n",
      " 3   SibSp     418 non-null    int64  \n",
      " 4   Parch     418 non-null    int64  \n",
      " 5   Fare      418 non-null    float64\n",
      " 6   Cabin     418 non-null    int64  \n",
      " 7   Embarked  418 non-null    int64  \n",
      "dtypes: float64(2), int64(6)\n",
      "memory usage: 26.2 KB\n"
     ]
    }
   ],
   "source": [
    "test_df.info()"
   ]
  },
  {
   "cell_type": "code",
   "execution_count": 15,
   "id": "df112ce7",
   "metadata": {
    "execution": {
     "iopub.execute_input": "2023-03-13T04:29:06.436111Z",
     "iopub.status.busy": "2023-03-13T04:29:06.434763Z",
     "iopub.status.idle": "2023-03-13T04:29:06.449116Z",
     "shell.execute_reply": "2023-03-13T04:29:06.447692Z"
    },
    "papermill": {
     "duration": 0.030314,
     "end_time": "2023-03-13T04:29:06.452147",
     "exception": false,
     "start_time": "2023-03-13T04:29:06.421833",
     "status": "completed"
    },
    "tags": []
   },
   "outputs": [
    {
     "name": "stdout",
     "output_type": "stream",
     "text": [
      "<class 'pandas.core.frame.DataFrame'>\n",
      "Int64Index: 179 entries, 431 to 484\n",
      "Data columns (total 8 columns):\n",
      " #   Column    Non-Null Count  Dtype  \n",
      "---  ------    --------------  -----  \n",
      " 0   Pclass    179 non-null    int64  \n",
      " 1   Sex       179 non-null    int64  \n",
      " 2   Age       179 non-null    float64\n",
      " 3   SibSp     179 non-null    int64  \n",
      " 4   Parch     179 non-null    int64  \n",
      " 5   Fare      179 non-null    float64\n",
      " 6   Cabin     179 non-null    int64  \n",
      " 7   Embarked  179 non-null    int64  \n",
      "dtypes: float64(2), int64(6)\n",
      "memory usage: 12.6 KB\n"
     ]
    }
   ],
   "source": [
    "X_test.info()"
   ]
  },
  {
   "cell_type": "code",
   "execution_count": 16,
   "id": "4a80ef86",
   "metadata": {
    "execution": {
     "iopub.execute_input": "2023-03-13T04:29:06.476031Z",
     "iopub.status.busy": "2023-03-13T04:29:06.475265Z",
     "iopub.status.idle": "2023-03-13T04:29:06.492334Z",
     "shell.execute_reply": "2023-03-13T04:29:06.490887Z"
    },
    "papermill": {
     "duration": 0.033464,
     "end_time": "2023-03-13T04:29:06.496422",
     "exception": false,
     "start_time": "2023-03-13T04:29:06.462958",
     "status": "completed"
    },
    "tags": []
   },
   "outputs": [
    {
     "name": "stdout",
     "output_type": "stream",
     "text": [
      "     PassengerId  Survived\n",
      "0            892         0\n",
      "1            893         1\n",
      "2            894         0\n",
      "3            895         0\n",
      "4            896         1\n",
      "..           ...       ...\n",
      "413         1305         0\n",
      "414         1306         1\n",
      "415         1307         0\n",
      "416         1308         0\n",
      "417         1309         0\n",
      "\n",
      "[418 rows x 2 columns]\n"
     ]
    }
   ],
   "source": [
    "answer = xgb_wrapper.predict(test_df)\n",
    "answer_df['Survived'] = answer\n",
    "print(answer_df)"
   ]
  },
  {
   "cell_type": "code",
   "execution_count": 17,
   "id": "d43dc807",
   "metadata": {
    "execution": {
     "iopub.execute_input": "2023-03-13T04:29:06.522240Z",
     "iopub.status.busy": "2023-03-13T04:29:06.521687Z",
     "iopub.status.idle": "2023-03-13T04:29:06.532916Z",
     "shell.execute_reply": "2023-03-13T04:29:06.531918Z"
    },
    "papermill": {
     "duration": 0.026875,
     "end_time": "2023-03-13T04:29:06.535527",
     "exception": false,
     "start_time": "2023-03-13T04:29:06.508652",
     "status": "completed"
    },
    "tags": []
   },
   "outputs": [],
   "source": [
    "answer_df.to_csv('/kaggle/working/titanic_answer.csv',index=False)"
   ]
  }
 ],
 "metadata": {
  "kernelspec": {
   "display_name": "Python 3",
   "language": "python",
   "name": "python3"
  },
  "language_info": {
   "codemirror_mode": {
    "name": "ipython",
    "version": 3
   },
   "file_extension": ".py",
   "mimetype": "text/x-python",
   "name": "python",
   "nbconvert_exporter": "python",
   "pygments_lexer": "ipython3",
   "version": "3.7.12"
  },
  "papermill": {
   "default_parameters": {},
   "duration": 15.741128,
   "end_time": "2023-03-13T04:29:07.370554",
   "environment_variables": {},
   "exception": null,
   "input_path": "__notebook__.ipynb",
   "output_path": "__notebook__.ipynb",
   "parameters": {},
   "start_time": "2023-03-13T04:28:51.629426",
   "version": "2.4.0"
  }
 },
 "nbformat": 4,
 "nbformat_minor": 5
}
